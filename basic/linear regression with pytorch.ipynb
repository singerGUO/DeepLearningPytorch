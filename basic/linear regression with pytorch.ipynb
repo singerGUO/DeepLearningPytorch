{
 "cells": [
  {
   "cell_type": "code",
   "execution_count": 218,
   "metadata": {},
   "outputs": [
    {
     "data": {
      "image/png": "[encoded data removed]",
      "text/plain": [
       "<Figure size 432x288 with 1 Axes>"
      ]
     },
     "metadata": {
      "needs_background": "light"
     },
     "output_type": "display_data"
    }
   ],
   "source": [
    "import numpy as np\n",
    "import matplotlib.pyplot as plt\n",
    "np.random.seed(1)\n",
    "n=50\n",
    "x=np.random.rand(n)\n",
    "y=x*np.random.rand(n)\n",
    "colors=np.random.rand(n)\n",
    "plt.plot(np.unique(x),np.poly1d(np.polyfit(x,y,1))(np.unique(x)))\n",
    "plt.scatter(x,y,c=colors,alpha=0.5)\n",
    "plt.show()"
   ]
  },
  {
   "cell_type": "markdown",
   "metadata": {},
   "source": [
    "#### Aim of linear regression"
   ]
  },
  {
   "cell_type": "markdown",
   "metadata": {},
   "source": [
    "build a linear regresson model with pytorch"
   ]
  },
  {
   "cell_type": "markdown",
   "metadata": {},
   "source": [
    "2.1 example \n",
    "\n",
    "aim of it is linear regression is to minimize the distance between the points and the line y=alphax+beta\n",
    "\n",
    "coefficient:alpha=2 \n",
    "\n",
    "bias:beta=1\n",
    "\n",
    "equation:y=2x+1"
   ]
  },
  {
   "cell_type": "markdown",
   "metadata": {},
   "source": [
    "2.2 building a toy dataset"
   ]
  },
  {
   "cell_type": "code",
   "execution_count": 219,
   "metadata": {},
   "outputs": [],
   "source": [
    "x_values=[i for i in range(11)]"
   ]
  },
  {
   "cell_type": "code",
   "execution_count": 220,
   "metadata": {},
   "outputs": [
    {
     "data": {
      "text/plain": [
       "[0, 1, 2, 3, 4, 5, 6, 7, 8, 9, 10]"
      ]
     },
     "execution_count": 220,
     "metadata": {},
     "output_type": "execute_result"
    }
   ],
   "source": [
    "x_values"
   ]
  },
  {
   "cell_type": "code",
   "execution_count": 221,
   "metadata": {},
   "outputs": [
    {
     "data": {
      "text/plain": [
       "(11,)"
      ]
     },
     "execution_count": 221,
     "metadata": {},
     "output_type": "execute_result"
    }
   ],
   "source": [
    "#convert to numpy\n",
    "x_train=np.array(x_values,dtype=np.float32)\n",
    "x_train.shape"
   ]
  },
  {
   "cell_type": "code",
   "execution_count": 222,
   "metadata": {},
   "outputs": [
    {
     "data": {
      "text/plain": [
       "(11, 1)"
      ]
     },
     "execution_count": 222,
     "metadata": {},
     "output_type": "execute_result"
    }
   ],
   "source": [
    "#important 2d required \n",
    "x_train=x_train.reshape(-1,1) \n",
    "x_train.shape"
   ]
  },
  {
   "cell_type": "markdown",
   "metadata": {},
   "source": [
    "y=2x+1"
   ]
  },
  {
   "cell_type": "code",
   "execution_count": 223,
   "metadata": {},
   "outputs": [],
   "source": [
    "y_values=[2*i+1 for i in x_values]"
   ]
  },
  {
   "cell_type": "code",
   "execution_count": 224,
   "metadata": {},
   "outputs": [
    {
     "data": {
      "text/plain": [
       "[1, 3, 5, 7, 9, 11, 13, 15, 17, 19, 21]"
      ]
     },
     "execution_count": 224,
     "metadata": {},
     "output_type": "execute_result"
    }
   ],
   "source": [
    "y_values"
   ]
  },
  {
   "cell_type": "code",
   "execution_count": 225,
   "metadata": {},
   "outputs": [
    {
     "data": {
      "text/plain": [
       "(11,)"
      ]
     },
     "execution_count": 225,
     "metadata": {},
     "output_type": "execute_result"
    }
   ],
   "source": [
    "y_train=np.array(y_values,dtype=np.float32)\n",
    "y_train.shape"
   ]
  },
  {
   "cell_type": "code",
   "execution_count": 226,
   "metadata": {},
   "outputs": [
    {
     "data": {
      "text/plain": [
       "(11, 1)"
      ]
     },
     "execution_count": 226,
     "metadata": {},
     "output_type": "execute_result"
    }
   ],
   "source": [
    "#important 2d required \n",
    "y_train=y_train.reshape(-1,1) \n",
    "y_train.shape"
   ]
  },
  {
   "cell_type": "markdown",
   "metadata": {},
   "source": [
    "#### building the model"
   ]
  },
  {
   "cell_type": "code",
   "execution_count": 227,
   "metadata": {},
   "outputs": [],
   "source": [
    "import torch\n",
    "#for linear regression model\n",
    "import torch.nn as nn\n",
    "from torch.autograd import Variable"
   ]
  },
  {
   "cell_type": "markdown",
   "metadata": {},
   "source": [
    "1. linear model\n",
    "    true equation y=2x+1\n",
    "2. Foward\n",
    "    input x=1\n",
    "    output y=?\n",
    "  "
   ]
  },
  {
   "cell_type": "code",
   "execution_count": 228,
   "metadata": {},
   "outputs": [],
   "source": [
    "#create class\n",
    "class LinearRegressionModel(nn.Module):\n",
    "    def __init__(self,input_dim,output_dim):\n",
    "        #inherit all stuffs from nn.module\n",
    "        super(LinearRegressionModel,self).__init__()\n",
    "                                #x    and  y\n",
    "        self.linear=nn.Linear(input_dim,output_dim)\n",
    "    def forward(self,x):\n",
    "        # to get y value for every call\n",
    "        out=self.linear(x)\n",
    "        return out\n",
    "    \n"
   ]
  },
  {
   "cell_type": "markdown",
   "metadata": {},
   "source": [
    "# Instantiate model class"
   ]
  },
  {
   "cell_type": "markdown",
   "metadata": {},
   "source": [
    "input: [0,1,2,....,10]\n",
    "    \n",
    "desired_output:[1,3,5,7,9...21]"
   ]
  },
  {
   "cell_type": "code",
   "execution_count": 229,
   "metadata": {},
   "outputs": [],
   "source": [
    "input_dim = 1\n",
    "output_dim = 1\n",
    "\n",
    "model = LinearRegressionModel(input_dim, output_dim)\n"
   ]
  },
  {
   "cell_type": "markdown",
   "metadata": {},
   "source": [
    "Inititate Loss class"
   ]
  },
  {
   "cell_type": "markdown",
   "metadata": {},
   "source": [
    "MSE LOSS: Mean square error\n",
    "         i=n   \n",
    "MSE=1/n Segma (yi^-yi)\n",
    "         i=1  \n",
    "y^ is perdiction \n",
    "y  is true value"
   ]
  },
  {
   "cell_type": "code",
   "execution_count": 230,
   "metadata": {},
   "outputs": [],
   "source": [
    "criterion=nn.MSELoss()"
   ]
  },
  {
   "cell_type": "markdown",
   "metadata": {},
   "source": [
    "# instantiate Optimizer class"
   ]
  },
  {
   "cell_type": "markdown",
   "metadata": {},
   "source": [
    "simplified equation:\n",
    "parameter=parameter-learningrate*ParamterGradiant\n",
    "\n",
    "In case of parameters:\n",
    "parameters : alpha and beta in y=alpha x + beta\n",
    "    \n"
   ]
  },
  {
   "cell_type": "code",
   "execution_count": 231,
   "metadata": {},
   "outputs": [],
   "source": [
    "learningrate=0.01\n",
    "optimizer = torch.optim.SGD(model.parameters(), lr=learningrate)"
   ]
  },
  {
   "cell_type": "code",
   "execution_count": 232,
   "metadata": {},
   "outputs": [],
   "source": [
    "epochs=100"
   ]
  },
  {
   "cell_type": "code",
   "execution_count": 233,
   "metadata": {},
   "outputs": [
    {
     "name": "stdout",
     "output_type": "stream",
     "text": [
      "epoch 1, loss 81.042724609375\n",
      "epoch 2, loss 7.277432918548584\n",
      "epoch 3, loss 1.2531805038452148\n",
      "epoch 4, loss 0.7544361352920532\n",
      "epoch 5, loss 0.7064721584320068\n",
      "epoch 6, loss 0.6953576803207397\n",
      "epoch 7, loss 0.6873300671577454\n",
      "epoch 8, loss 0.6796333193778992\n",
      "epoch 9, loss 0.6720417737960815\n",
      "epoch 10, loss 0.6645374298095703\n",
      "epoch 11, loss 0.6571164131164551\n",
      "epoch 12, loss 0.649778425693512\n",
      "epoch 13, loss 0.6425226926803589\n",
      "epoch 14, loss 0.6353472471237183\n",
      "epoch 15, loss 0.6282529234886169\n",
      "epoch 16, loss 0.62123703956604\n",
      "epoch 17, loss 0.6142999529838562\n",
      "epoch 18, loss 0.6074402928352356\n",
      "epoch 19, loss 0.6006571054458618\n",
      "epoch 20, loss 0.5939494967460632\n",
      "epoch 21, loss 0.5873169898986816\n",
      "epoch 22, loss 0.580758273601532\n",
      "epoch 23, loss 0.5742731690406799\n",
      "epoch 24, loss 0.5678601861000061\n",
      "epoch 25, loss 0.5615193843841553\n",
      "epoch 26, loss 0.5552487969398499\n",
      "epoch 27, loss 0.5490487217903137\n",
      "epoch 28, loss 0.5429174900054932\n",
      "epoch 29, loss 0.5368543267250061\n",
      "epoch 30, loss 0.5308598279953003\n",
      "epoch 31, loss 0.524931788444519\n",
      "epoch 32, loss 0.5190695524215698\n",
      "epoch 33, loss 0.5132735371589661\n",
      "epoch 34, loss 0.5075415372848511\n",
      "epoch 35, loss 0.5018741488456726\n",
      "epoch 36, loss 0.4962693750858307\n",
      "epoch 37, loss 0.49072790145874023\n",
      "epoch 38, loss 0.4852480888366699\n",
      "epoch 39, loss 0.47982919216156006\n",
      "epoch 40, loss 0.47447121143341064\n",
      "epoch 41, loss 0.46917277574539185\n",
      "epoch 42, loss 0.4639335572719574\n",
      "epoch 43, loss 0.4587527811527252\n",
      "epoch 44, loss 0.4536299705505371\n",
      "epoch 45, loss 0.44856444001197815\n",
      "epoch 46, loss 0.44355520606040955\n",
      "epoch 47, loss 0.43860235810279846\n",
      "epoch 48, loss 0.43370458483695984\n",
      "epoch 49, loss 0.4288613498210907\n",
      "epoch 50, loss 0.42407238483428955\n",
      "epoch 51, loss 0.4193367063999176\n",
      "epoch 52, loss 0.41465407609939575\n",
      "epoch 53, loss 0.4100235104560852\n",
      "epoch 54, loss 0.40544500946998596\n",
      "epoch 55, loss 0.40091729164123535\n",
      "epoch 56, loss 0.39644086360931396\n",
      "epoch 57, loss 0.3920136094093323\n",
      "epoch 58, loss 0.38763588666915894\n",
      "epoch 59, loss 0.3833071291446686\n",
      "epoch 60, loss 0.3790270686149597\n",
      "epoch 61, loss 0.37479454278945923\n",
      "epoch 62, loss 0.37060925364494324\n",
      "epoch 63, loss 0.3664705753326416\n",
      "epoch 64, loss 0.3623781204223633\n",
      "epoch 65, loss 0.3583317995071411\n",
      "epoch 66, loss 0.35433003306388855\n",
      "epoch 67, loss 0.3503735065460205\n",
      "epoch 68, loss 0.34646111726760864\n",
      "epoch 69, loss 0.34259214997291565\n",
      "epoch 70, loss 0.3387663662433624\n",
      "epoch 71, loss 0.33498334884643555\n",
      "epoch 72, loss 0.3312428891658783\n",
      "epoch 73, loss 0.3275437653064728\n",
      "epoch 74, loss 0.3238861560821533\n",
      "epoch 75, loss 0.3202691972255707\n",
      "epoch 76, loss 0.3166930079460144\n",
      "epoch 77, loss 0.3131563365459442\n",
      "epoch 78, loss 0.3096593916416168\n",
      "epoch 79, loss 0.3062015175819397\n",
      "epoch 80, loss 0.3027823567390442\n",
      "epoch 81, loss 0.29940128326416016\n",
      "epoch 82, loss 0.29605764150619507\n",
      "epoch 83, loss 0.29275158047676086\n",
      "epoch 84, loss 0.28948289155960083\n",
      "epoch 85, loss 0.28625020384788513\n",
      "epoch 86, loss 0.28305357694625854\n",
      "epoch 87, loss 0.2798927426338196\n",
      "epoch 88, loss 0.27676722407341003\n",
      "epoch 89, loss 0.27367669343948364\n",
      "epoch 90, loss 0.2706206142902374\n",
      "epoch 91, loss 0.26759883761405945\n",
      "epoch 92, loss 0.26461026072502136\n",
      "epoch 93, loss 0.26165544986724854\n",
      "epoch 94, loss 0.2587335407733917\n",
      "epoch 95, loss 0.2558443248271942\n",
      "epoch 96, loss 0.2529875338077545\n",
      "epoch 97, loss 0.25016239285469055\n",
      "epoch 98, loss 0.24736900627613068\n",
      "epoch 99, loss 0.2446064054965973\n",
      "epoch 100, loss 0.24187499284744263\n"
     ]
    },
    {
     "name": "stderr",
     "output_type": "stream",
     "text": [
      "C:\\Users\\G2945\\Anaconda3\\lib\\site-packages\\ipykernel_launcher.py:22: UserWarning: invalid index of a 0-dim tensor. This will be an error in PyTorch 0.5. Use tensor.item() to convert a 0-dim tensor to a Python number\n"
     ]
    }
   ],
   "source": [
    "for epoch in range(epochs):\n",
    "    epoch += 1\n",
    "    # Convert numpy array to torch Variable\n",
    "    inputs = Variable(torch.from_numpy(x_train))\n",
    "    labels = Variable(torch.from_numpy(y_train))\n",
    "    \n",
    "    # Clear gradients w.r.t. parameters\n",
    "    optimizer.zero_grad()\n",
    "    \n",
    "    # Forward to get output predicted y value\n",
    "    outputs = model(inputs)\n",
    "    \n",
    "    # Calculate Loss\n",
    "    loss = criterion(outputs, labels)\n",
    "    \n",
    "    # Getting gradients w.r.t. parameters\n",
    "    loss.backward()\n",
    "    \n",
    "    # Updating parameters \n",
    "    optimizer.step()\n",
    "    \n",
    "    print('epoch {}, loss {}'.format(epoch, loss.data[0]))\n",
    "    "
   ]
  },
  {
   "cell_type": "code",
   "execution_count": 234,
   "metadata": {},
   "outputs": [
    {
     "data": {
      "text/plain": [
       "array([[ 0.08513767],\n",
       "       [ 2.216886  ],\n",
       "       [ 4.3486347 ],\n",
       "       [ 6.4803834 ],\n",
       "       [ 8.612131  ],\n",
       "       [10.743879  ],\n",
       "       [12.875628  ],\n",
       "       [15.007377  ],\n",
       "       [17.139126  ],\n",
       "       [19.270874  ],\n",
       "       [21.402622  ]], dtype=float32)"
      ]
     },
     "execution_count": 234,
     "metadata": {},
     "output_type": "execute_result"
    }
   ],
   "source": [
    "# Purely inference\n",
    "predicted = model(Variable(torch.from_numpy(x_train))).data.numpy()\n",
    "predicted"
   ]
  },
  {
   "cell_type": "code",
   "execution_count": 235,
   "metadata": {},
   "outputs": [
    {
     "data": {
      "text/plain": [
       "array([[ 1.],\n",
       "       [ 3.],\n",
       "       [ 5.],\n",
       "       [ 7.],\n",
       "       [ 9.],\n",
       "       [11.],\n",
       "       [13.],\n",
       "       [15.],\n",
       "       [17.],\n",
       "       [19.],\n",
       "       [21.]], dtype=float32)"
      ]
     },
     "execution_count": 235,
     "metadata": {},
     "output_type": "execute_result"
    }
   ],
   "source": [
    "# y = 2x + 1\n",
    "y_train"
   ]
  },
  {
   "cell_type": "code",
   "execution_count": 236,
   "metadata": {},
   "outputs": [
    {
     "data": {
      "image/png": "[encoded data removed]",
      "text/plain": [
       "<Figure size 432x288 with 1 Axes>"
      ]
     },
     "metadata": {
      "needs_background": "light"
     },
     "output_type": "display_data"
    }
   ],
   "source": [
    "#clear figure\n",
    "plt.clf()\n",
    "\n",
    "#Get predictions \n",
    "predicted=model(Variable(torch.from_numpy(x_train))).data.numpy()\n",
    "\n",
    "#plot true data \n",
    "plt.plot(x_train,y_train,'go',label='True data',alpha=0.5)\n",
    "\n",
    "#plot predictions\n",
    "plt.plot(x_train,predicted,'--',label='Predictions',alpha=0.5)\n",
    "#legend and plot\n",
    "plt.legend(loc='best')\n",
    "plt.show()"
   ]
  }
 ],
 "metadata": {
  "kernelspec": {
   "display_name": "Python 3",
   "language": "python",
   "name": "python3"
  },
  "language_info": {
   "codemirror_mode": {
    "name": "ipython",
    "version": 3
   },
   "file_extension": ".py",
   "mimetype": "text/x-python",
   "name": "python",
   "nbconvert_exporter": "python",
   "pygments_lexer": "ipython3",
   "version": "3.7.1"
  }
 },
 "nbformat": 4,
 "nbformat_minor": 2
}
