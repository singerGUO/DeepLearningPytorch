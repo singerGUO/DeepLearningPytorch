{
 "cells": [
  {
   "cell_type": "markdown",
   "metadata": {},
   "source": [
    "# logistic Regression"
   ]
  },
  {
   "cell_type": "markdown",
   "metadata": {},
   "source": [
    "#### classification Algorithm\n",
    "\n"
   ]
  },
  {
   "cell_type": "markdown",
   "metadata": {},
   "source": [
    "spam vs no spam\n",
    "\n",
    "input: bunch of words \n",
    "    \n",
    "output:probability spam or not\n",
    "\n",
    "    "
   ]
  },
  {
   "cell_type": "markdown",
   "metadata": {},
   "source": [
    "#### basic Comparision\n"
   ]
  },
  {
   "cell_type": "markdown",
   "metadata": {},
   "source": [
    "Linear regression: Multiplication\n",
    "\n",
    "input [1] ..output:2\n",
    "input [2] ..output:4\n",
    "model the relation y=2x\n",
    "\n",
    "Logistic regression: Spam\n",
    "    probability [0,1] give input belongnin to a class\n",
    "    \n",
    "    return the probability of spam\n",
    "\n"
   ]
  },
  {
   "cell_type": "markdown",
   "metadata": {},
   "source": [
    "# problem of Linear Regression for classification"
   ]
  },
  {
   "cell_type": "code",
   "execution_count": 2,
   "metadata": {},
   "outputs": [
    {
     "data": {
      "text/plain": [
       "<Figure size 640x480 with 1 Axes>"
      ]
     },
     "metadata": {},
     "output_type": "display_data"
    }
   ],
   "source": [
    "import numpy as np \n",
    "import matplotlib.pyplot as plt\n",
    "# determine if it is fever according to temperature\n",
    "x=[1,5,10,10,25,50,70,75,100,]\n",
    "y=[0,0,0,0,0,1,1,1,1]\n",
    "colors=np.random.rand(len(x))\n",
    "plt.plot(np.unique(x),np.poly1d(np.polyfit(x,y,1))(np.unique(x)))\n",
    "plt.ylabel(\"Fever\")\n",
    "plt.xlabel(\"Temperature\")\n",
    "\n",
    "plt.scatter(x,y,c=colors,alpha=0.5)\n",
    "plt.show()\n",
    "\n"
   ]
  },
  {
   "cell_type": "code",
   "execution_count": 3,
   "metadata": {},
   "outputs": [
    {
     "data": {
      "image/png": "[encoded data removed]",
      "text/plain": [
       "<Figure size 432x288 with 1 Axes>"
      ]
     },
     "metadata": {
      "needs_background": "light"
     },
     "output_type": "display_data"
    }
   ],
   "source": [
    "# after introducing outliers linear regression is destroyed \n",
    "import numpy as np\n",
    "import matplotlib.pyplot as plt\n",
    "\n",
    "x = [1, 5, 10, 10, 25, 50, 70, 75, 300]\n",
    "y = [0, 0, 0, 0, 0, 1, 1, 1, 1]\n",
    "\n",
    "colors = np.random.rand(len(x))\n",
    "plt.plot(np.unique(x), np.poly1d(np.polyfit(x, y, 1))(np.unique(x)))\n",
    "plt.ylabel(\"Fever\")\n",
    "plt.xlabel(\"Temperature\")\n",
    "\n",
    "plt.scatter(x, y, c=colors, alpha=0.5)\n",
    "plt.show()"
   ]
  },
  {
   "cell_type": "code",
   "execution_count": 4,
   "metadata": {},
   "outputs": [],
   "source": [
    "# linear function y=ax+b        Logistic function S=g(y)              Cross entropy function D(S,L)\n",
    "# input      ->        Logits            ->               softmax            ->                 True Labels\n",
    "\n",
    "\n",
    "\n",
    "\n",
    "# Logistic regression can solve the classification \n",
    "\n",
    "# Logistic Function g()\n",
    "\n",
    "# y=Ax+b\n",
    "\n",
    "# g(y)=1/(1+e^-y)=1/1+e^-(Ax+b)\n",
    "\n",
    "# g(y)=Estimated probability that y=1 given x\n",
    "\n",
    "\n",
    "\n",
    "\n",
    "\n",
    "\n",
    "\n",
    "\n",
    "\n",
    "# Softmax Function g()\n",
    "\n",
    "\n",
    "# Multi-class logistic regression(complicated)\n",
    "\n",
    "# Generalization of logistic function\n",
    "\n",
    "\n",
    "# cross entropy function()\n",
    "\n",
    "# D(S,L)=LlogS-(1-L)log(1-S)\n",
    "\n",
    "# if L=0(label) not spam\n",
    "#     D(S,0)=-log(1-S)\n",
    "#         -log(1-s):less positive if s->0\n",
    "#         -log(1-s):more positive if s->1 biggerloss\n",
    "\n",
    "# if L=1(label) spam\n",
    "#     D(s,1)=logS\n",
    "#         logS:less negative if S->1\n",
    "#         logS:more negativeif S->0 bigger loss\n",
    "\n",
    "\n",
    "\n",
    "\n",
    "\n",
    "\n",
    "\n",
    "\n",
    "\n",
    "\n",
    "\n",
    "\n",
    "\n"
   ]
  },
  {
   "cell_type": "markdown",
   "metadata": {},
   "source": [
    "#### Cross Entropy Loss \n"
   ]
  },
  {
   "cell_type": "markdown",
   "metadata": {},
   "source": [
    "Goal: minimizing cross entropy loss\n",
    "    \n",
    "L=1/N segmai D(g(Axi+b),Li)"
   ]
  },
  {
   "cell_type": "markdown",
   "metadata": {},
   "source": [
    "# building a logistic Regresion model with pytorch\n",
    "\n"
   ]
  },
  {
   "cell_type": "markdown",
   "metadata": {},
   "source": [
    "load dataset\n",
    "\n",
    "make it iterable\n",
    "\n",
    "create model class\n",
    "\n",
    "instantiate model class\n",
    "\n",
    "instantiate loss class\n",
    "\n",
    "instantiate optimizer class\n",
    "\n",
    "train model"
   ]
  },
  {
   "cell_type": "markdown",
   "metadata": {},
   "source": [
    "# Step 1 loading MNIST Train Dataset\n",
    "### images from 1-9"
   ]
  },
  {
   "cell_type": "code",
   "execution_count": 5,
   "metadata": {},
   "outputs": [],
   "source": [
    "import torch\n",
    "import torch.nn as nn\n",
    "import torchvision.transforms as transforms\n",
    "import torchvision.datasets as dsets\n",
    "from torch.autograd import Variable"
   ]
  },
  {
   "cell_type": "code",
   "execution_count": 6,
   "metadata": {},
   "outputs": [],
   "source": [
    "# save the data in current folder and create data folder\n",
    "train_dataset = dsets.MNIST(root='./data',\n",
    "                            train=True,\n",
    "                            transform=transforms.ToTensor(),\n",
    "                            download=True)\n",
    "#don't have to download it second time"
   ]
  },
  {
   "cell_type": "code",
   "execution_count": 7,
   "metadata": {},
   "outputs": [
    {
     "data": {
      "text/plain": [
       "60000"
      ]
     },
     "execution_count": 7,
     "metadata": {},
     "output_type": "execute_result"
    }
   ],
   "source": [
    "len(train_dataset)"
   ]
  },
  {
   "cell_type": "code",
   "execution_count": 8,
   "metadata": {},
   "outputs": [
    {
     "data": {
      "text/plain": [
       "(tensor([[[0.0000, 0.0000, 0.0000, 0.0000, 0.0000, 0.0000, 0.0000, 0.0000,\n",
       "           0.0000, 0.0000, 0.0000, 0.0000, 0.0000, 0.0000, 0.0000, 0.0000,\n",
       "           0.0000, 0.0000, 0.0000, 0.0000, 0.0000, 0.0000, 0.0000, 0.0000,\n",
       "           0.0000, 0.0000, 0.0000, 0.0000],\n",
       "          [0.0000, 0.0000, 0.0000, 0.0000, 0.0000, 0.0000, 0.0000, 0.0000,\n",
       "           0.0000, 0.0000, 0.0000, 0.0000, 0.0000, 0.0000, 0.0000, 0.0000,\n",
       "           0.0000, 0.0000, 0.0000, 0.0000, 0.0000, 0.0000, 0.0000, 0.0000,\n",
       "           0.0000, 0.0000, 0.0000, 0.0000],\n",
       "          [0.0000, 0.0000, 0.0000, 0.0000, 0.0000, 0.0000, 0.0000, 0.0000,\n",
       "           0.0000, 0.0000, 0.0000, 0.0000, 0.0000, 0.0000, 0.0000, 0.0000,\n",
       "           0.0000, 0.0000, 0.0000, 0.0000, 0.0000, 0.0000, 0.0000, 0.0000,\n",
       "           0.0000, 0.0000, 0.0000, 0.0000],\n",
       "          [0.0000, 0.0000, 0.0000, 0.0000, 0.0000, 0.0000, 0.0000, 0.0000,\n",
       "           0.0000, 0.0000, 0.0000, 0.0000, 0.0000, 0.0000, 0.0000, 0.0000,\n",
       "           0.0000, 0.0000, 0.0000, 0.0000, 0.0000, 0.0000, 0.0000, 0.0000,\n",
       "           0.0000, 0.0000, 0.0000, 0.0000],\n",
       "          [0.0000, 0.0000, 0.0000, 0.0000, 0.0000, 0.0000, 0.0000, 0.0000,\n",
       "           0.0000, 0.0000, 0.0000, 0.0000, 0.0000, 0.0000, 0.0000, 0.0000,\n",
       "           0.0000, 0.0000, 0.0000, 0.0000, 0.0000, 0.0000, 0.0000, 0.0000,\n",
       "           0.0000, 0.0000, 0.0000, 0.0000],\n",
       "          [0.0000, 0.0000, 0.0000, 0.0000, 0.0000, 0.0000, 0.0000, 0.0000,\n",
       "           0.0000, 0.0000, 0.0000, 0.0000, 0.0118, 0.0706, 0.0706, 0.0706,\n",
       "           0.4941, 0.5333, 0.6863, 0.1020, 0.6510, 1.0000, 0.9686, 0.4980,\n",
       "           0.0000, 0.0000, 0.0000, 0.0000],\n",
       "          [0.0000, 0.0000, 0.0000, 0.0000, 0.0000, 0.0000, 0.0000, 0.0000,\n",
       "           0.1176, 0.1412, 0.3686, 0.6039, 0.6667, 0.9922, 0.9922, 0.9922,\n",
       "           0.9922, 0.9922, 0.8824, 0.6745, 0.9922, 0.9490, 0.7647, 0.2510,\n",
       "           0.0000, 0.0000, 0.0000, 0.0000],\n",
       "          [0.0000, 0.0000, 0.0000, 0.0000, 0.0000, 0.0000, 0.0000, 0.1922,\n",
       "           0.9333, 0.9922, 0.9922, 0.9922, 0.9922, 0.9922, 0.9922, 0.9922,\n",
       "           0.9922, 0.9843, 0.3647, 0.3216, 0.3216, 0.2196, 0.1529, 0.0000,\n",
       "           0.0000, 0.0000, 0.0000, 0.0000],\n",
       "          [0.0000, 0.0000, 0.0000, 0.0000, 0.0000, 0.0000, 0.0000, 0.0706,\n",
       "           0.8588, 0.9922, 0.9922, 0.9922, 0.9922, 0.9922, 0.7765, 0.7137,\n",
       "           0.9686, 0.9451, 0.0000, 0.0000, 0.0000, 0.0000, 0.0000, 0.0000,\n",
       "           0.0000, 0.0000, 0.0000, 0.0000],\n",
       "          [0.0000, 0.0000, 0.0000, 0.0000, 0.0000, 0.0000, 0.0000, 0.0000,\n",
       "           0.3137, 0.6118, 0.4196, 0.9922, 0.9922, 0.8039, 0.0431, 0.0000,\n",
       "           0.1686, 0.6039, 0.0000, 0.0000, 0.0000, 0.0000, 0.0000, 0.0000,\n",
       "           0.0000, 0.0000, 0.0000, 0.0000],\n",
       "          [0.0000, 0.0000, 0.0000, 0.0000, 0.0000, 0.0000, 0.0000, 0.0000,\n",
       "           0.0000, 0.0549, 0.0039, 0.6039, 0.9922, 0.3529, 0.0000, 0.0000,\n",
       "           0.0000, 0.0000, 0.0000, 0.0000, 0.0000, 0.0000, 0.0000, 0.0000,\n",
       "           0.0000, 0.0000, 0.0000, 0.0000],\n",
       "          [0.0000, 0.0000, 0.0000, 0.0000, 0.0000, 0.0000, 0.0000, 0.0000,\n",
       "           0.0000, 0.0000, 0.0000, 0.5451, 0.9922, 0.7451, 0.0078, 0.0000,\n",
       "           0.0000, 0.0000, 0.0000, 0.0000, 0.0000, 0.0000, 0.0000, 0.0000,\n",
       "           0.0000, 0.0000, 0.0000, 0.0000],\n",
       "          [0.0000, 0.0000, 0.0000, 0.0000, 0.0000, 0.0000, 0.0000, 0.0000,\n",
       "           0.0000, 0.0000, 0.0000, 0.0431, 0.7451, 0.9922, 0.2745, 0.0000,\n",
       "           0.0000, 0.0000, 0.0000, 0.0000, 0.0000, 0.0000, 0.0000, 0.0000,\n",
       "           0.0000, 0.0000, 0.0000, 0.0000],\n",
       "          [0.0000, 0.0000, 0.0000, 0.0000, 0.0000, 0.0000, 0.0000, 0.0000,\n",
       "           0.0000, 0.0000, 0.0000, 0.0000, 0.1373, 0.9451, 0.8824, 0.6275,\n",
       "           0.4235, 0.0039, 0.0000, 0.0000, 0.0000, 0.0000, 0.0000, 0.0000,\n",
       "           0.0000, 0.0000, 0.0000, 0.0000],\n",
       "          [0.0000, 0.0000, 0.0000, 0.0000, 0.0000, 0.0000, 0.0000, 0.0000,\n",
       "           0.0000, 0.0000, 0.0000, 0.0000, 0.0000, 0.3176, 0.9412, 0.9922,\n",
       "           0.9922, 0.4667, 0.0980, 0.0000, 0.0000, 0.0000, 0.0000, 0.0000,\n",
       "           0.0000, 0.0000, 0.0000, 0.0000],\n",
       "          [0.0000, 0.0000, 0.0000, 0.0000, 0.0000, 0.0000, 0.0000, 0.0000,\n",
       "           0.0000, 0.0000, 0.0000, 0.0000, 0.0000, 0.0000, 0.1765, 0.7294,\n",
       "           0.9922, 0.9922, 0.5882, 0.1059, 0.0000, 0.0000, 0.0000, 0.0000,\n",
       "           0.0000, 0.0000, 0.0000, 0.0000],\n",
       "          [0.0000, 0.0000, 0.0000, 0.0000, 0.0000, 0.0000, 0.0000, 0.0000,\n",
       "           0.0000, 0.0000, 0.0000, 0.0000, 0.0000, 0.0000, 0.0000, 0.0627,\n",
       "           0.3647, 0.9882, 0.9922, 0.7333, 0.0000, 0.0000, 0.0000, 0.0000,\n",
       "           0.0000, 0.0000, 0.0000, 0.0000],\n",
       "          [0.0000, 0.0000, 0.0000, 0.0000, 0.0000, 0.0000, 0.0000, 0.0000,\n",
       "           0.0000, 0.0000, 0.0000, 0.0000, 0.0000, 0.0000, 0.0000, 0.0000,\n",
       "           0.0000, 0.9765, 0.9922, 0.9765, 0.2510, 0.0000, 0.0000, 0.0000,\n",
       "           0.0000, 0.0000, 0.0000, 0.0000],\n",
       "          [0.0000, 0.0000, 0.0000, 0.0000, 0.0000, 0.0000, 0.0000, 0.0000,\n",
       "           0.0000, 0.0000, 0.0000, 0.0000, 0.0000, 0.0000, 0.1804, 0.5098,\n",
       "           0.7176, 0.9922, 0.9922, 0.8118, 0.0078, 0.0000, 0.0000, 0.0000,\n",
       "           0.0000, 0.0000, 0.0000, 0.0000],\n",
       "          [0.0000, 0.0000, 0.0000, 0.0000, 0.0000, 0.0000, 0.0000, 0.0000,\n",
       "           0.0000, 0.0000, 0.0000, 0.0000, 0.1529, 0.5804, 0.8980, 0.9922,\n",
       "           0.9922, 0.9922, 0.9804, 0.7137, 0.0000, 0.0000, 0.0000, 0.0000,\n",
       "           0.0000, 0.0000, 0.0000, 0.0000],\n",
       "          [0.0000, 0.0000, 0.0000, 0.0000, 0.0000, 0.0000, 0.0000, 0.0000,\n",
       "           0.0000, 0.0000, 0.0941, 0.4471, 0.8667, 0.9922, 0.9922, 0.9922,\n",
       "           0.9922, 0.7882, 0.3059, 0.0000, 0.0000, 0.0000, 0.0000, 0.0000,\n",
       "           0.0000, 0.0000, 0.0000, 0.0000],\n",
       "          [0.0000, 0.0000, 0.0000, 0.0000, 0.0000, 0.0000, 0.0000, 0.0000,\n",
       "           0.0902, 0.2588, 0.8353, 0.9922, 0.9922, 0.9922, 0.9922, 0.7765,\n",
       "           0.3176, 0.0078, 0.0000, 0.0000, 0.0000, 0.0000, 0.0000, 0.0000,\n",
       "           0.0000, 0.0000, 0.0000, 0.0000],\n",
       "          [0.0000, 0.0000, 0.0000, 0.0000, 0.0000, 0.0000, 0.0706, 0.6706,\n",
       "           0.8588, 0.9922, 0.9922, 0.9922, 0.9922, 0.7647, 0.3137, 0.0353,\n",
       "           0.0000, 0.0000, 0.0000, 0.0000, 0.0000, 0.0000, 0.0000, 0.0000,\n",
       "           0.0000, 0.0000, 0.0000, 0.0000],\n",
       "          [0.0000, 0.0000, 0.0000, 0.0000, 0.2157, 0.6745, 0.8863, 0.9922,\n",
       "           0.9922, 0.9922, 0.9922, 0.9569, 0.5216, 0.0431, 0.0000, 0.0000,\n",
       "           0.0000, 0.0000, 0.0000, 0.0000, 0.0000, 0.0000, 0.0000, 0.0000,\n",
       "           0.0000, 0.0000, 0.0000, 0.0000],\n",
       "          [0.0000, 0.0000, 0.0000, 0.0000, 0.5333, 0.9922, 0.9922, 0.9922,\n",
       "           0.8314, 0.5294, 0.5176, 0.0627, 0.0000, 0.0000, 0.0000, 0.0000,\n",
       "           0.0000, 0.0000, 0.0000, 0.0000, 0.0000, 0.0000, 0.0000, 0.0000,\n",
       "           0.0000, 0.0000, 0.0000, 0.0000],\n",
       "          [0.0000, 0.0000, 0.0000, 0.0000, 0.0000, 0.0000, 0.0000, 0.0000,\n",
       "           0.0000, 0.0000, 0.0000, 0.0000, 0.0000, 0.0000, 0.0000, 0.0000,\n",
       "           0.0000, 0.0000, 0.0000, 0.0000, 0.0000, 0.0000, 0.0000, 0.0000,\n",
       "           0.0000, 0.0000, 0.0000, 0.0000],\n",
       "          [0.0000, 0.0000, 0.0000, 0.0000, 0.0000, 0.0000, 0.0000, 0.0000,\n",
       "           0.0000, 0.0000, 0.0000, 0.0000, 0.0000, 0.0000, 0.0000, 0.0000,\n",
       "           0.0000, 0.0000, 0.0000, 0.0000, 0.0000, 0.0000, 0.0000, 0.0000,\n",
       "           0.0000, 0.0000, 0.0000, 0.0000],\n",
       "          [0.0000, 0.0000, 0.0000, 0.0000, 0.0000, 0.0000, 0.0000, 0.0000,\n",
       "           0.0000, 0.0000, 0.0000, 0.0000, 0.0000, 0.0000, 0.0000, 0.0000,\n",
       "           0.0000, 0.0000, 0.0000, 0.0000, 0.0000, 0.0000, 0.0000, 0.0000,\n",
       "           0.0000, 0.0000, 0.0000, 0.0000]]]), tensor(5))"
      ]
     },
     "execution_count": 8,
     "metadata": {},
     "output_type": "execute_result"
    }
   ],
   "source": [
    "train_dataset[0]"
   ]
  },
  {
   "cell_type": "code",
   "execution_count": 9,
   "metadata": {},
   "outputs": [
    {
     "data": {
      "text/plain": [
       "tuple"
      ]
     },
     "execution_count": 9,
     "metadata": {},
     "output_type": "execute_result"
    }
   ],
   "source": [
    "type(train_dataset[0])"
   ]
  },
  {
   "cell_type": "code",
   "execution_count": 10,
   "metadata": {},
   "outputs": [
    {
     "data": {
      "text/plain": [
       "torch.Size([1, 28, 28])"
      ]
     },
     "execution_count": 10,
     "metadata": {},
     "output_type": "execute_result"
    }
   ],
   "source": [
    "#input Matrix \n",
    "train_dataset[0][0].size()\n",
    "# image of   28*28 width and height "
   ]
  },
  {
   "cell_type": "code",
   "execution_count": 11,
   "metadata": {},
   "outputs": [
    {
     "data": {
      "text/plain": [
       "tensor(5)"
      ]
     },
     "execution_count": 11,
     "metadata": {},
     "output_type": "execute_result"
    }
   ],
   "source": [
    "#label\n",
    "train_dataset[0][1]"
   ]
  },
  {
   "cell_type": "markdown",
   "metadata": {},
   "source": [
    "# Displaying MNIST"
   ]
  },
  {
   "cell_type": "code",
   "execution_count": 12,
   "metadata": {},
   "outputs": [],
   "source": [
    "import matplotlib.pyplot as plt\n",
    "%matplotlib inline\n",
    "import numpy as np"
   ]
  },
  {
   "cell_type": "code",
   "execution_count": 13,
   "metadata": {},
   "outputs": [
    {
     "data": {
      "text/plain": [
       "(1, 28, 28)"
      ]
     },
     "execution_count": 13,
     "metadata": {},
     "output_type": "execute_result"
    }
   ],
   "source": [
    "train_dataset[0][0].numpy().shape"
   ]
  },
  {
   "cell_type": "code",
   "execution_count": 14,
   "metadata": {},
   "outputs": [],
   "source": [
    "show_img = train_dataset[0][0].numpy().reshape(28, 28)"
   ]
  },
  {
   "cell_type": "code",
   "execution_count": 15,
   "metadata": {},
   "outputs": [
    {
     "data": {
      "text/plain": [
       "<matplotlib.image.AxesImage at 0x29f8bb2bf28>"
      ]
     },
     "execution_count": 15,
     "metadata": {},
     "output_type": "execute_result"
    },
    {
     "data": {
      "image/png": "[encoded data removed]",
      "text/plain": [
       "<Figure size 432x288 with 1 Axes>"
      ]
     },
     "metadata": {
      "needs_background": "light"
     },
     "output_type": "display_data"
    }
   ],
   "source": [
    "plt.imshow(show_img, cmap='gray')"
   ]
  },
  {
   "cell_type": "code",
   "execution_count": 16,
   "metadata": {},
   "outputs": [
    {
     "data": {
      "text/plain": [
       "tensor(5)"
      ]
     },
     "execution_count": 16,
     "metadata": {},
     "output_type": "execute_result"
    }
   ],
   "source": [
    "# Label\n",
    "train_dataset[0][1]"
   ]
  },
  {
   "cell_type": "code",
   "execution_count": 17,
   "metadata": {},
   "outputs": [],
   "source": [
    "show_img = train_dataset[1][0].numpy().reshape(28, 28)"
   ]
  },
  {
   "cell_type": "code",
   "execution_count": 18,
   "metadata": {},
   "outputs": [
    {
     "data": {
      "text/plain": [
       "<matplotlib.image.AxesImage at 0x29f8bb996d8>"
      ]
     },
     "execution_count": 18,
     "metadata": {},
     "output_type": "execute_result"
    },
    {
     "data": {
      "image/png": "[encoded data removed]",
      "text/plain": [
       "<Figure size 432x288 with 1 Axes>"
      ]
     },
     "metadata": {
      "needs_background": "light"
     },
     "output_type": "display_data"
    }
   ],
   "source": [
    "plt.imshow(show_img, cmap='gray')"
   ]
  },
  {
   "cell_type": "code",
   "execution_count": 19,
   "metadata": {},
   "outputs": [
    {
     "data": {
      "text/plain": [
       "tensor(0)"
      ]
     },
     "execution_count": 19,
     "metadata": {},
     "output_type": "execute_result"
    }
   ],
   "source": [
    "# Label\n",
    "train_dataset[1][1]"
   ]
  },
  {
   "cell_type": "markdown",
   "metadata": {},
   "source": [
    "# step 1b: Loading MNIST TEST Dataset"
   ]
  },
  {
   "cell_type": "markdown",
   "metadata": {},
   "source": [
    "evalute the performance of our models\n",
    "\n",
    "determine if it's overfitting"
   ]
  },
  {
   "cell_type": "code",
   "execution_count": 20,
   "metadata": {},
   "outputs": [],
   "source": [
    "test_dataset = dsets.MNIST(root='./data',\n",
    "                           train=False,\n",
    "                           transform=transforms.ToTensor())"
   ]
  },
  {
   "cell_type": "code",
   "execution_count": 21,
   "metadata": {},
   "outputs": [
    {
     "data": {
      "text/plain": [
       "10000"
      ]
     },
     "execution_count": 21,
     "metadata": {},
     "output_type": "execute_result"
    }
   ],
   "source": [
    "len(test_dataset)"
   ]
  },
  {
   "cell_type": "code",
   "execution_count": 88,
   "metadata": {},
   "outputs": [
    {
     "data": {
      "text/plain": [
       "tuple"
      ]
     },
     "execution_count": 88,
     "metadata": {},
     "output_type": "execute_result"
    }
   ],
   "source": [
    "\n",
    "type(test_dataset[0])\n"
   ]
  },
  {
   "cell_type": "code",
   "execution_count": 23,
   "metadata": {},
   "outputs": [
    {
     "data": {
      "text/plain": [
       "torch.Size([1, 28, 28])"
      ]
     },
     "execution_count": 23,
     "metadata": {},
     "output_type": "execute_result"
    }
   ],
   "source": [
    "# Image matrix\n",
    "test_dataset[0][0].size()"
   ]
  },
  {
   "cell_type": "code",
   "execution_count": 24,
   "metadata": {},
   "outputs": [
    {
     "data": {
      "text/plain": [
       "<matplotlib.image.AxesImage at 0x29fffe3cb00>"
      ]
     },
     "execution_count": 24,
     "metadata": {},
     "output_type": "execute_result"
    },
    {
     "data": {
      "image/png": "[encoded data removed]",
      "text/plain": [
       "<Figure size 432x288 with 1 Axes>"
      ]
     },
     "metadata": {
      "needs_background": "light"
     },
     "output_type": "display_data"
    }
   ],
   "source": [
    "show_img = test_dataset[0][0].numpy().reshape(28, 28)\n",
    "plt.imshow(show_img, cmap='gray')"
   ]
  },
  {
   "cell_type": "code",
   "execution_count": 25,
   "metadata": {},
   "outputs": [
    {
     "data": {
      "text/plain": [
       "tensor(7)"
      ]
     },
     "execution_count": 25,
     "metadata": {},
     "output_type": "execute_result"
    }
   ],
   "source": [
    "\n",
    "# Label\n",
    "test_dataset[0][1]"
   ]
  },
  {
   "cell_type": "markdown",
   "metadata": {},
   "source": [
    "# step 2  make dateset iterable  "
   ]
  },
  {
   "cell_type": "code",
   "execution_count": 26,
   "metadata": {},
   "outputs": [],
   "source": [
    "# make dateset iterable \n",
    "\n",
    "# totaldata:60000\n",
    "# minibatch:100\n",
    "#     number of examples in 1 iteration\n",
    "# iterations:3000\n",
    "#     1 iterations: one mini-batch forward&backward pass\n",
    "# epochs \n",
    "#     1 epoch running through the whole data set once\n",
    "#     epochs =iterations / (totaldata/minibatch)=5\n",
    "    \n",
    "    \n",
    "# going 60000*5 times which means 100 images one iterations *3000"
   ]
  },
  {
   "cell_type": "code",
   "execution_count": 27,
   "metadata": {},
   "outputs": [
    {
     "data": {
      "text/plain": [
       "60000"
      ]
     },
     "execution_count": 27,
     "metadata": {},
     "output_type": "execute_result"
    }
   ],
   "source": [
    "len(train_dataset)"
   ]
  },
  {
   "cell_type": "code",
   "execution_count": 28,
   "metadata": {},
   "outputs": [],
   "source": [
    "batch_size = 100"
   ]
  },
  {
   "cell_type": "code",
   "execution_count": 29,
   "metadata": {},
   "outputs": [],
   "source": [
    "n_iters = 3000"
   ]
  },
  {
   "cell_type": "code",
   "execution_count": 30,
   "metadata": {},
   "outputs": [
    {
     "data": {
      "text/plain": [
       "5"
      ]
     },
     "execution_count": 30,
     "metadata": {},
     "output_type": "execute_result"
    }
   ],
   "source": [
    "num_epochs = n_iters / (len(train_dataset) / batch_size)\n",
    "num_epochs = int(num_epochs)\n",
    "num_epochs"
   ]
  },
  {
   "cell_type": "markdown",
   "metadata": {},
   "source": [
    "create Iterable obejct:traning Dataset\n"
   ]
  },
  {
   "cell_type": "code",
   "execution_count": 31,
   "metadata": {},
   "outputs": [],
   "source": [
    "train_loader = torch.utils.data.DataLoader(dataset=train_dataset,\n",
    "                                           batch_size=batch_size,\n",
    "                                           shuffle=True)\n",
    "#the second epochs shuffle to preveting overfting "
   ]
  },
  {
   "cell_type": "markdown",
   "metadata": {},
   "source": [
    "check Iterability"
   ]
  },
  {
   "cell_type": "code",
   "execution_count": 32,
   "metadata": {},
   "outputs": [
    {
     "data": {
      "text/plain": [
       "True"
      ]
     },
     "execution_count": 32,
     "metadata": {},
     "output_type": "execute_result"
    }
   ],
   "source": [
    "import collections\n",
    "isinstance(train_loader,collections.Iterable)"
   ]
  },
  {
   "cell_type": "markdown",
   "metadata": {},
   "source": [
    "### Create Iterable Object:testing DataSet"
   ]
  },
  {
   "cell_type": "code",
   "execution_count": 33,
   "metadata": {},
   "outputs": [],
   "source": [
    "test_loader = torch.utils.data.DataLoader(dataset=test_dataset,\n",
    "                                           batch_size=batch_size,\n",
    "                                           shuffle=False)\n",
    "# only need to do one single forward pass"
   ]
  },
  {
   "cell_type": "code",
   "execution_count": 34,
   "metadata": {},
   "outputs": [
    {
     "data": {
      "text/plain": [
       "True"
      ]
     },
     "execution_count": 34,
     "metadata": {},
     "output_type": "execute_result"
    }
   ],
   "source": [
    "isinstance(test_loader,collections.Iterable)"
   ]
  },
  {
   "cell_type": "markdown",
   "metadata": {},
   "source": [
    "#### Main aim: Iterate Through Dateset"
   ]
  },
  {
   "cell_type": "code",
   "execution_count": 35,
   "metadata": {},
   "outputs": [],
   "source": [
    "img_1 = np.ones((28, 28))\n",
    "img_2 = np.ones((28, 28))\n",
    "lst = [img_1, img_2]\n"
   ]
  },
  {
   "cell_type": "code",
   "execution_count": 36,
   "metadata": {},
   "outputs": [
    {
     "name": "stdout",
     "output_type": "stream",
     "text": [
      "(28, 28)\n",
      "(28, 28)\n"
     ]
    }
   ],
   "source": [
    "# Need to iterate\n",
    "# Think of numbers as the images\n",
    "for i in lst:\n",
    "    print(i.shape)"
   ]
  },
  {
   "cell_type": "markdown",
   "metadata": {},
   "source": [
    "# Step 3: Buildign Model"
   ]
  },
  {
   "cell_type": "code",
   "execution_count": 37,
   "metadata": {},
   "outputs": [],
   "source": [
    "\n",
    "# Same as linear regression!\n",
    "class LogisticRegressionModel(nn.Module):\n",
    "    def __init__(self, input_dim, output_dim):\n",
    "        super(LogisticRegressionModel, self).__init__()\n",
    "        self.linear = nn.Linear(input_dim, output_dim)\n",
    "# we pass in x and get y pass it to softmax then we get the probability        \n",
    "    def forward(self, x):\n",
    "        out = self.linear(x)\n",
    "        return out\n"
   ]
  },
  {
   "cell_type": "markdown",
   "metadata": {},
   "source": [
    "# Step 4 : Instantiate Model class\n",
    "    "
   ]
  },
  {
   "cell_type": "code",
   "execution_count": 38,
   "metadata": {},
   "outputs": [],
   "source": [
    "#input dimension:\n",
    "#28*28=784\n",
    "#outut dimension:\n",
    "#0,1,2..9\n"
   ]
  },
  {
   "cell_type": "code",
   "execution_count": 39,
   "metadata": {},
   "outputs": [],
   "source": [
    "input_dim = 28*28\n",
    "output_dim = 10\n",
    "\n",
    "model = LogisticRegressionModel(input_dim, output_dim)"
   ]
  },
  {
   "cell_type": "markdown",
   "metadata": {},
   "source": [
    "# step 5 Instantiate Loss class\n",
    "    \n",
    "        "
   ]
  },
  {
   "cell_type": "code",
   "execution_count": 40,
   "metadata": {},
   "outputs": [],
   "source": [
    "# Logistic Regression:cross Entropy Loss\n",
    "#     Linear Regression:MSE\n",
    "        "
   ]
  },
  {
   "cell_type": "code",
   "execution_count": 41,
   "metadata": {},
   "outputs": [],
   "source": [
    "criterion=nn.CrossEntropyLoss()\n",
    "#computes softmax and cross entropy "
   ]
  },
  {
   "cell_type": "markdown",
   "metadata": {},
   "source": [
    "# step instantiate optimizer class\n"
   ]
  },
  {
   "cell_type": "code",
   "execution_count": 42,
   "metadata": {},
   "outputs": [],
   "source": [
    "learning_rate = 0.001\n",
    "\n",
    "optimizer = torch.optim.SGD(model.parameters(), lr=learning_rate)"
   ]
  },
  {
   "cell_type": "code",
   "execution_count": 43,
   "metadata": {},
   "outputs": [
    {
     "name": "stdout",
     "output_type": "stream",
     "text": [
      "<generator object Module.parameters at 0x0000029FFFE1FB88>\n",
      "2\n",
      "torch.Size([10, 784])\n",
      "torch.Size([10])\n"
     ]
    }
   ],
   "source": [
    "print(model.parameters())\n",
    "# t\n",
    "print(len(list(model.parameters())))\n",
    "\n",
    "# FC 1 Parameters alpha \n",
    "print(list(model.parameters())[0].size())\n",
    "\n",
    "# FC 1 Bias Parameters beta\n",
    "print(list(model.parameters())[1].size())"
   ]
  },
  {
   "cell_type": "code",
   "execution_count": 44,
   "metadata": {},
   "outputs": [],
   "source": [
    "#                 matrix  size\n",
    "#                   A1       B1   \n",
    "#                 10*784    10*1\n",
    "\n",
    "# (784*1)           A1X1+B1        \n",
    "# Input size --------------------> outputsize   \n",
    "#   784                              10\n",
    "    \n",
    "    \n",
    "    \n",
    "    \n",
    "    \n",
    "    \n",
    "    \n",
    "    \n",
    "#       (10,784)*(784,1)+(10,1)=(10,1)  "
   ]
  },
  {
   "cell_type": "markdown",
   "metadata": {},
   "source": [
    "# step 7:Train Model"
   ]
  },
  {
   "cell_type": "code",
   "execution_count": 45,
   "metadata": {},
   "outputs": [
    {
     "name": "stderr",
     "output_type": "stream",
     "text": [
      "C:\\Users\\G2945\\Anaconda3\\lib\\site-packages\\ipykernel_launcher.py:51: UserWarning: invalid index of a 0-dim tensor. This will be an error in PyTorch 0.5. Use tensor.item() to convert a 0-dim tensor to a Python number\n"
     ]
    },
    {
     "name": "stdout",
     "output_type": "stream",
     "text": [
      "Iteration: 500. Loss: 1.8745571374893188. Accuracy: 70\n",
      "Iteration: 1000. Loss: 1.564401388168335. Accuracy: 78\n",
      "Iteration: 1500. Loss: 1.360158085823059. Accuracy: 80\n",
      "Iteration: 2000. Loss: 1.1127443313598633. Accuracy: 81\n",
      "Iteration: 2500. Loss: 1.07394278049469. Accuracy: 82\n",
      "Iteration: 3000. Loss: 0.9678703546524048. Accuracy: 83\n"
     ]
    }
   ],
   "source": [
    "iter = 0\n",
    "for epoch in range(num_epochs):\n",
    "    for i, (images, labels) in enumerate(train_loader):\n",
    "        # Load images as Variable\n",
    "        # don't need to convert to tensor because image are already torch tensor\n",
    "        images = Variable(images.view(-1, 28*28))\n",
    "        labels = Variable(labels)\n",
    "        \n",
    "        # Clear gradients w.r.t. parameters\n",
    "        optimizer.zero_grad()\n",
    "        \n",
    "        # Forward pass to get output/logits \n",
    "        outputs = model(images)\n",
    "        \n",
    "        # Calculate Loss: softmax --> cross entropy loss\n",
    "        loss = criterion(outputs, labels)\n",
    "        \n",
    "        # Getting gradients w.r.t. parameters\n",
    "        loss.backward()\n",
    "        \n",
    "        # Updating parameters\n",
    "        optimizer.step()\n",
    "        \n",
    "        iter += 1\n",
    "        \n",
    "        if iter % 500 == 0:\n",
    "            # Calculate Accuracy every 500 iteration\n",
    "            correct = 0\n",
    "            total = 0\n",
    "            # Iterate through test dataset\n",
    "            for images, labels in test_loader:\n",
    "                # Load images to a Torch Variable\n",
    "                #resize to 28*28\n",
    "                images = Variable(images.view(-1, 28*28))\n",
    "                \n",
    "                # Forward pass only to get logits/output\n",
    "                outputs = model(images)\n",
    "                \n",
    "                # Get predictions from the maximum value\n",
    "                # output is an variable so we need to use .data\n",
    "                _, predicted = torch.max(outputs.data, 1)\n",
    "                \n",
    "                # Total number of labels\n",
    "                total += labels.size(0)\n",
    "   # Total correct predictions\n",
    "                correct += (predicted == labels).sum()\n",
    "                \n",
    "            accuracy = 100 * correct / total\n",
    "            \n",
    "            # Print Loss\n",
    "            print(\"Iteration: {}. Loss: {}. Accuracy: {}\".format(iter, loss.data[0], accuracy)) "
   ]
  },
  {
   "cell_type": "markdown",
   "metadata": {},
   "source": [
    "# break down accuracy Calculation"
   ]
  },
  {
   "cell_type": "code",
   "execution_count": 46,
   "metadata": {},
   "outputs": [
    {
     "name": "stdout",
     "output_type": "stream",
     "text": [
      "OUTPUTS\n",
      "tensor([[-0.3290, -0.9783, -0.3856, -0.1465,  0.2512, -0.4190, -1.0788,  2.7814,\n",
      "         -0.4475,  0.8114],\n",
      "        [ 0.6130,  0.1694,  1.8327,  1.2055, -1.7725,  0.9543,  1.4703, -1.8003,\n",
      "          0.3904, -1.4543],\n",
      "        [-0.7873,  2.2474,  0.2105,  0.0337, -0.6704, -0.2567, -0.1240, -0.3044,\n",
      "          0.1450, -0.3584],\n",
      "        [ 2.7719, -2.3281, -0.1134, -0.2797, -0.9663,  0.6314,  1.2025,  0.2641,\n",
      "         -0.4612, -0.3957],\n",
      "        [-0.2065, -2.0516,  0.3794, -0.7357,  1.8064, -0.4303,  0.1712,  0.3571,\n",
      "          0.0088,  0.8874],\n",
      "        [-1.1618,  2.8283,  0.1720,  0.0580, -0.6453, -0.3704, -0.6090, -0.1311,\n",
      "          0.4963, -0.1204],\n",
      "        [-1.1454, -1.0912, -0.7058,  0.1371,  1.3794,  0.2001, -0.7668,  0.6627,\n",
      "          0.4334,  0.7965],\n",
      "        [-1.2640, -0.1940, -0.5859,  0.0478,  0.7776,  0.2826,  0.1977, -0.1446,\n",
      "          0.4130,  1.2959],\n",
      "        [ 0.2199, -0.6242,  0.9690, -1.2986,  0.5848,  0.0929,  0.9773, -0.6573,\n",
      "          0.1003,  0.1043],\n",
      "        [-0.5200, -0.6142, -1.2159, -1.3833,  1.2424, -0.1774, -0.5851,  1.6579,\n",
      "          0.0780,  1.6325],\n",
      "        [ 3.2915, -1.7348,  0.5084,  0.9400, -0.7564,  1.0172, -0.3484, -1.3391,\n",
      "          0.6287, -1.6694],\n",
      "        [ 0.8981, -0.2852,  0.4679, -0.1582,  0.2909, -0.4827,  0.8187, -1.0502,\n",
      "          0.4746, -0.3836],\n",
      "        [-0.8724, -1.5657, -0.7161, -0.9775,  1.5335, -0.1390, -0.1407,  1.2142,\n",
      "          0.1224,  2.1716],\n",
      "        [ 2.9505, -2.4432, -0.4013, -0.5428, -0.4831,  0.8936, -0.2141, -0.4381,\n",
      "          0.6262,  0.0933],\n",
      "        [-1.2597,  2.7573, -0.0832,  0.4891, -1.2641, -0.1772, -0.0019, -0.2400,\n",
      "          0.3051, -0.1558],\n",
      "        [ 0.4235, -0.8167,  0.0617,  1.3234, -0.4426,  0.9712, -0.3771, -0.6336,\n",
      "          0.4511, -0.9752],\n",
      "        [-0.4729, -2.2269, -0.0624, -0.6538,  1.2479, -0.6808, -0.2927,  0.8234,\n",
      "          0.2099,  1.6966],\n",
      "        [ 0.2359, -1.3026, -0.5168,  0.4984, -0.0763, -0.3034, -0.7005,  2.5726,\n",
      "         -0.6733,  0.4285],\n",
      "        [-0.4144, -0.3124,  0.1727,  1.3504, -0.4080,  0.3750,  1.0757, -0.6612,\n",
      "          0.2875, -0.6572],\n",
      "        [-0.9768, -1.3897, -0.4980, -0.0701,  2.0192, -0.0917, -0.1271,  0.0912,\n",
      "         -0.0285,  1.3510],\n",
      "        [-0.9493, -0.1738, -1.3389, -0.0589,  0.5740,  0.3638, -1.3726,  1.7151,\n",
      "          0.3879,  1.3024],\n",
      "        [-0.2769, -1.3540,  0.2376,  0.4613,  0.5867,  0.5680,  2.1682, -1.4416,\n",
      "          0.1325,  0.0574],\n",
      "        [-0.3979,  0.1644,  0.3424, -0.6340,  0.8647, -1.0633,  1.2051,  0.0244,\n",
      "         -0.3219,  0.1149],\n",
      "        [ 0.0853, -0.9023, -0.4493,  0.3621, -0.1079,  1.3659,  0.4309, -0.9238,\n",
      "          0.9052,  0.0221],\n",
      "        [-0.6716, -0.9960,  0.0920, -0.1948,  1.2594, -0.3952, -0.1449,  0.3537,\n",
      "         -0.1098,  1.0118],\n",
      "        [ 4.2530, -2.7072,  0.7363, -1.0375, -0.4484,  0.9452,  1.2125, -0.6860,\n",
      "         -0.1115, -1.2656],\n",
      "        [-0.2050, -1.2508, -0.4737,  0.0325,  0.3131, -0.1897, -0.6944,  1.6407,\n",
      "         -0.5540,  1.0339],\n",
      "        [-0.4994, -2.1317, -0.3263, -0.7646,  2.3572,  0.1879,  0.0590, -0.1927,\n",
      "          0.0827,  1.4250],\n",
      "        [ 2.6949, -2.3051,  0.1572,  0.9528, -1.0680,  0.8968,  0.0449, -0.6327,\n",
      "          0.5971, -0.5972],\n",
      "        [-1.2050,  1.6295, -0.4498,  0.3010, -0.4617,  0.1574,  0.2358, -0.2453,\n",
      "          0.3923, -0.3401],\n",
      "        [-0.5890, -0.0538, -0.7418,  2.3066, -1.1992,  0.8272, -0.4892,  0.3215,\n",
      "          0.1767, -0.0820],\n",
      "        [-1.0524,  1.1100, -0.3523,  0.4121, -0.3658,  0.0791, -0.0423, -0.1160,\n",
      "          0.1543,  0.1320],\n",
      "        [-0.8243, -0.4472, -0.5664,  2.3699, -0.2437,  1.5502, -0.3287, -1.1065,\n",
      "          0.5578, -0.2011],\n",
      "        [ 1.7242, -1.5591,  0.5716, -1.6103,  0.5637,  0.0329,  1.5550, -1.0018,\n",
      "         -0.0128, -0.2808],\n",
      "        [-0.9588, -0.3536,  0.6896, -0.2361, -0.2829, -0.5372, -1.5589,  1.9563,\n",
      "          0.7234,  0.5250],\n",
      "        [ 0.5148, -1.1577,  2.6581,  0.3172, -0.9972,  0.1121,  0.2959, -0.1475,\n",
      "          0.1224, -1.6823],\n",
      "        [-0.5513, -1.5798,  0.1915,  0.0266, -0.1027, -0.5915, -0.6318,  2.5518,\n",
      "         -0.2896,  1.2425],\n",
      "        [-1.4017,  2.1415, -0.4636,  0.1422, -0.6839,  0.0487,  0.0302, -0.1372,\n",
      "          0.4478, -0.0096],\n",
      "        [ 0.5375,  0.5245,  0.9602,  1.3784, -2.0447,  0.2015,  0.5092, -1.2747,\n",
      "          0.3957, -1.1357],\n",
      "        [-1.3803,  3.0054, -0.3248,  0.3807, -1.2849, -0.0691, -0.1182, -0.5787,\n",
      "          0.6425, -0.2490],\n",
      "        [-0.5912,  1.7272, -0.0324,  0.0769, -0.5318, -0.1727,  0.1037, -0.2938,\n",
      "          0.1938, -0.1373],\n",
      "        [-0.7722, -0.8049, -0.2077, -0.4401, -0.1677, -0.4706, -0.5873,  2.1866,\n",
      "         -0.2621,  1.2547],\n",
      "        [-2.0373, -0.3376, -0.3149, -0.3268,  2.1592, -0.7245, -0.7465,  0.6683,\n",
      "          0.4871,  1.8011],\n",
      "        [-0.4414,  1.0171,  1.1472, -0.0995, -0.2398, -0.4555,  0.3200, -1.1962,\n",
      "          0.3698, -0.5082],\n",
      "        [-0.9934,  0.2513,  0.0633,  1.3351, -0.6551,  0.5768,  0.4721, -0.3762,\n",
      "          0.1293, -0.2820],\n",
      "        [ 0.1548, -1.1704, -0.3996,  1.6973, -0.3510,  1.3945,  0.0233, -1.2609,\n",
      "          0.9720, -0.4907],\n",
      "        [-1.7473,  0.3344, -0.0380,  0.7938, -0.3772,  0.4060,  0.0172, -0.2347,\n",
      "          0.3367,  0.0877],\n",
      "        [-0.9128, -0.2805,  1.6965, -0.3902,  0.3803, -0.5542,  0.6280, -0.0298,\n",
      "         -0.1443, -0.0162],\n",
      "        [-1.0239, -2.4961, -1.1706, -0.0957,  2.9454,  0.4308, -0.6160,  0.3675,\n",
      "          0.7979,  2.1112],\n",
      "        [-0.5047, -1.9748,  0.6671, -0.8312,  2.4063, -0.9757,  0.1003,  0.3792,\n",
      "         -0.3818,  1.1328],\n",
      "        [ 0.1383, -0.9327,  0.5525,  0.3451, -0.2597,  0.4967,  2.1578, -0.9623,\n",
      "         -0.0517, -0.4839],\n",
      "        [ 0.3011, -0.6825, -0.1651,  1.9747, -0.8284,  0.4656,  0.1043, -0.3408,\n",
      "         -0.0196, -0.1073],\n",
      "        [ 0.6704, -1.1594, -1.1343,  0.0817,  0.9591,  1.3824,  0.1273, -0.3813,\n",
      "         -0.1062,  0.5878],\n",
      "        [ 0.3763, -0.6378, -0.4966,  1.0572, -0.0897,  0.7101, -0.0864, -0.5829,\n",
      "          0.2768, -0.4949],\n",
      "        [ 0.0599, -0.5512,  1.5115, -0.3523,  0.4757, -0.8141,  1.0836, -0.2845,\n",
      "          0.1396, -0.3334],\n",
      "        [ 1.4065, -2.2636, -0.6889,  0.3668, -0.5461,  1.2723,  0.3891, -0.7276,\n",
      "          1.2289, -0.1936],\n",
      "        [ 0.0406, -2.5398,  0.0992, -0.6560,  2.8003,  0.0907,  0.3642, -0.1975,\n",
      "         -0.0664,  0.9994],\n",
      "        [-0.7975,  2.2977,  0.0383,  0.1261, -0.9013, -0.2410, -0.4587, -0.2141,\n",
      "          0.2187, -0.1005],\n",
      "        [-0.1668, -1.9839, -0.9055, -0.9607,  1.9910, -0.2825, -0.0312,  1.0160,\n",
      "         -0.4255,  2.1382],\n",
      "        [ 0.1552,  0.2694, -0.5078, -0.4012,  0.2971,  0.6438, -0.1839,  0.3978,\n",
      "          0.0531, -0.2397],\n",
      "        [ 0.0158, -1.8090, -0.6600,  0.8772,  0.1484, -0.1175, -0.3208,  1.9641,\n",
      "         -0.8615,  0.5172],\n",
      "        [ 0.1403, -0.6693,  0.9836, -1.4471, -0.2004,  0.1896,  0.6628, -0.5620,\n",
      "          1.3165,  0.6147],\n",
      "        [-0.9403, -0.9028, -0.0513, -0.1672,  0.5453,  0.1364,  0.1333, -0.1665,\n",
      "          0.4831,  0.9972],\n",
      "        [-1.0671, -0.0479,  1.2270,  0.7416, -0.2045, -0.1536, -0.3551, -0.5285,\n",
      "          0.3552,  0.3267],\n",
      "        [-0.8597, -0.4879,  0.2038, -0.5553,  0.8098, -0.7562, -0.6206,  1.6396,\n",
      "          0.0732,  0.5020],\n",
      "        [-1.2554, -0.4403, -0.5850,  0.4306,  0.5321,  0.2792,  0.1766, -0.3090,\n",
      "          0.5381,  0.7508],\n",
      "        [ 0.6473, -0.1135,  0.9229, -0.3516,  0.5965, -0.7066,  0.8146,  0.1868,\n",
      "         -0.3656, -0.3869],\n",
      "        [-0.6439, -1.3978,  0.6731, -1.0270,  2.1509, -0.7675, -0.1327,  0.6261,\n",
      "         -0.0021,  0.6805],\n",
      "        [-1.2563, -0.2294, -0.1667,  2.7836, -0.3918,  0.9998, -0.8231, -0.8405,\n",
      "          1.1796,  0.1006],\n",
      "        [ 2.6036, -1.2204,  0.6501, -0.3482, -1.4922,  0.7206,  0.2029,  0.1127,\n",
      "         -0.2690, -0.1184],\n",
      "        [ 0.5499, -1.1216, -0.7562, -0.0119,  0.0040, -0.2473, -0.6245,  2.7537,\n",
      "         -0.6015,  0.5313],\n",
      "        [ 4.5369, -2.6779,  0.9908,  0.2530, -1.0465,  1.1224,  0.2319, -1.2227,\n",
      "          0.3133, -1.4211],\n",
      "        [ 1.5063, -1.1854,  1.7452,  1.3077, -0.9544,  0.0541,  0.5294, -0.7497,\n",
      "         -0.0690, -1.8870],\n",
      "        [-1.3552,  0.5868,  0.1477, -0.0712, -0.9920, -0.2592, -1.0453,  0.8962,\n",
      "          1.2652,  0.5658],\n",
      "        [-1.3397,  2.3951, -0.5634,  0.0301, -0.9474,  0.1488,  0.0303, -0.1848,\n",
      "          0.5954, -0.1045],\n",
      "        [-1.5683,  0.6214, -0.3209, -0.4949,  1.0545, -0.5650, -0.5086,  1.6983,\n",
      "         -0.0025,  0.8705],\n",
      "        [-0.1675,  0.3951, -0.1128,  2.3249, -0.8703,  0.8483, -0.4157, -1.2095,\n",
      "          0.3708, -0.8197],\n",
      "        [-0.6600, -0.4358,  0.9327, -0.6668, -0.3758, -0.5362, -0.0386,  1.7538,\n",
      "         -0.2969,  0.7307],\n",
      "        [-1.6391,  0.9929, -0.6658,  0.0396, -0.0731,  0.2770, -0.5182,  0.4043,\n",
      "          0.9379,  0.7874],\n",
      "        [-0.4157, -0.6278, -0.5561, -1.1292, -0.0851, -0.5119, -1.3931,  3.4966,\n",
      "          0.2112,  0.7539],\n",
      "        [-0.4929, -1.7665, -1.0062,  0.0760,  0.9461,  0.4673, -0.3350,  1.3678,\n",
      "         -0.5388,  1.6289],\n",
      "        [ 0.1132, -1.9685,  0.7701, -0.3821,  0.1323,  0.2159,  2.2766, -0.4933,\n",
      "         -0.4732,  0.0823],\n",
      "        [-0.8250, -1.1607,  4.1456, -0.0109, -0.2186, -1.0882,  0.8204, -0.8361,\n",
      "          0.5866, -1.0610],\n",
      "        [-0.6220, -1.8125, -0.7273,  0.0503,  0.6716, -0.1772, -0.9657,  2.0460,\n",
      "         -0.3766,  1.4576],\n",
      "        [-0.6363,  0.0829, -0.4981, -0.7242,  0.7404,  0.8051, -0.6349, -0.5372,\n",
      "          1.2246,  0.8661],\n",
      "        [-1.1102, -2.3280, -0.5599,  0.1802,  3.2793,  0.2575, -0.1743, -0.2766,\n",
      "          0.3208,  1.3553],\n",
      "        [-1.7680,  0.5247, -0.3122, -0.5334, -0.1338, -0.7117, -1.2013,  2.9880,\n",
      "          0.4181,  1.0285],\n",
      "        [ 0.0253, -1.6353, -0.9722,  1.9036, -0.0852,  1.2913,  0.6718, -0.7022,\n",
      "         -0.1379, -0.1099],\n",
      "        [-0.1876, -1.9093,  0.7470, -1.0250,  1.2386, -0.5375,  2.5745, -0.0964,\n",
      "         -0.6617,  0.2873],\n",
      "        [-1.4552,  3.0775,  0.3497,  0.0290, -0.6190, -0.4550, -0.2791, -0.3255,\n",
      "          0.4790, -0.4874],\n",
      "        [ 0.3797, -0.6823, -0.1382,  2.9714, -1.0505,  0.9398, -1.4129, -0.5014,\n",
      "          0.8350, -0.6651],\n",
      "        [-0.8651, -0.6155,  0.3606, -0.5245,  0.5234, -0.0988,  2.6504, -1.1883,\n",
      "         -0.0192,  0.1656],\n",
      "        [-0.8442,  0.1591,  0.0494, -0.6214,  0.4886, -0.0140, -0.1652,  0.0744,\n",
      "          0.8661,  0.5768],\n",
      "        [-0.8432, -0.5280, -0.5635,  2.7318, -1.3762,  1.1091, -1.0054,  0.5295,\n",
      "          0.7711,  0.0714],\n",
      "        [-2.2239,  1.8144, -0.1691,  0.4458, -0.6119,  0.0498,  0.4011, -0.5354,\n",
      "          0.7597, -0.1227],\n",
      "        [-0.8377, -0.4310, -0.4545, -1.3474,  2.4960, -0.5524,  0.5568,  0.1219,\n",
      "         -0.1581,  1.2414],\n",
      "        [-1.1918,  0.4996, -0.5618,  0.4621, -0.3057,  0.2341, -0.0601, -0.0666,\n",
      "          0.4422,  0.1383],\n",
      "        [-1.6805,  1.6933, -0.5822,  0.0438, -0.0646, -0.1862, -0.0515,  0.7159,\n",
      "          0.2207,  0.5973],\n",
      "        [ 0.8740, -1.2500,  0.7118, -0.7234, -0.3035,  0.5030,  1.9164, -1.0860,\n",
      "          0.0230, -0.9025],\n",
      "        [-1.2626, -1.7085,  0.0083, -0.6925,  1.4993, -0.9588, -0.4673,  0.9738,\n"
     ]
    },
    {
     "name": "stdout",
     "output_type": "stream",
     "text": [
      "          0.1575,  2.3124]], grad_fn=<ThAddmmBackward>)\n"
     ]
    }
   ],
   "source": [
    "iter_test = 0\n",
    "for images, labels in test_loader:\n",
    "    iter_test += 1\n",
    "    images = Variable(images.view(-1, 28*28))\n",
    "    #linear output \n",
    "    outputs = model(images)\n",
    "    if iter_test == 1:\n",
    "        print('OUTPUTS')\n",
    "        print(outputs)\n",
    "    _, predicted = torch.max(outputs.data, 1)"
   ]
  },
  {
   "cell_type": "code",
   "execution_count": 48,
   "metadata": {},
   "outputs": [
    {
     "name": "stdout",
     "output_type": "stream",
     "text": [
      "OUTPUTS\n",
      "torch.Size([100, 10])\n"
     ]
    }
   ],
   "source": [
    "iter_test = 0\n",
    "for images, labels in test_loader:\n",
    "    iter_test += 1\n",
    "    images = Variable(images.view(-1, 28*28))\n",
    "    #linear output \n",
    "    outputs = model(images)\n",
    "    if iter_test == 1:\n",
    "        print('OUTPUTS')\n",
    "        print(outputs.size())\n",
    "    _, predicted = torch.max(outputs.data, 1)\n",
    "    # it is [100,10] because the batch is 100 images and each batch with 10 perdictions"
   ]
  },
  {
   "cell_type": "code",
   "execution_count": 49,
   "metadata": {},
   "outputs": [
    {
     "name": "stdout",
     "output_type": "stream",
     "text": [
      "OUTPUTS\n",
      "tensor([-0.3290, -0.9783, -0.3856, -0.1465,  0.2512, -0.4190, -1.0788,  2.7814,\n",
      "        -0.4475,  0.8114], grad_fn=<SelectBackward>)\n"
     ]
    }
   ],
   "source": [
    "iter_test = 0\n",
    "for images, labels in test_loader:\n",
    "    iter_test += 1\n",
    "    images = Variable(images.view(-1, 28*28))\n",
    "    #linear output \n",
    "    outputs = model(images)\n",
    "    if iter_test == 1:\n",
    "        print('OUTPUTS')\n",
    "        #to get all 10 perdictions from the first images \n",
    "        print(outputs[0,:])\n",
    "    _, predicted = torch.max(outputs.data, 1)\n",
    "    #number 7 digit has the largest perdiction"
   ]
  },
  {
   "cell_type": "code",
   "execution_count": 50,
   "metadata": {},
   "outputs": [
    {
     "name": "stdout",
     "output_type": "stream",
     "text": [
      "PREDICTION\n",
      "torch.Size([100])\n"
     ]
    }
   ],
   "source": [
    "iter_test = 0\n",
    "for images, labels in test_loader:\n",
    "    iter_test += 1\n",
    "    images = Variable(images.view(-1, 28*28))\n",
    "    outputs = model(images)\n",
    "    _, predicted = torch.max(outputs.data, 1)\n",
    "    if iter_test == 1:\n",
    "        print('PREDICTION')\n",
    "        print(predicted.size())\n",
    "        # it is [100,1] because we have maximum value for each images (total is 100 if them)"
   ]
  },
  {
   "cell_type": "code",
   "execution_count": 51,
   "metadata": {},
   "outputs": [
    {
     "name": "stdout",
     "output_type": "stream",
     "text": [
      "PREDICTION\n",
      "tensor(7)\n"
     ]
    }
   ],
   "source": [
    "iter_test = 0\n",
    "for images, labels in test_loader:\n",
    "    iter_test += 1\n",
    "    images = Variable(images.view(-1, 28*28))\n",
    "    outputs = model(images)\n",
    "    _, predicted = torch.max(outputs.data, 1)\n",
    "    if iter_test == 1:\n",
    "        print('PREDICTION')\n",
    "        print(predicted[0])\n",
    "    # the prediction is digit 7"
   ]
  },
  {
   "cell_type": "code",
   "execution_count": 52,
   "metadata": {},
   "outputs": [
    {
     "name": "stdout",
     "output_type": "stream",
     "text": [
      "PREDICTION\n",
      "tensor(7)\n",
      "LABEL SIZE\n",
      "torch.Size([100])\n",
      "LABEL FOR IMAGE 0\n",
      "tensor(7)\n"
     ]
    }
   ],
   "source": [
    "iter_test = 0\n",
    "for images, labels in test_loader:\n",
    "    iter_test += 1\n",
    "    images = Variable(images.view(-1, 28*28))\n",
    "    outputs = model(images)\n",
    "    _, predicted = torch.max(outputs.data, 1)\n",
    "    if iter_test == 1:\n",
    "        print('PREDICTION')\n",
    "        print(predicted[0])\n",
    "        \n",
    "        print('LABEL SIZE')\n",
    "        print(labels.size())\n",
    "        \n",
    "        print('LABEL FOR IMAGE 0')\n",
    "        print(labels[0])\n",
    "        # compare with the label and they are the same"
   ]
  },
  {
   "cell_type": "code",
   "execution_count": 53,
   "metadata": {},
   "outputs": [
    {
     "name": "stdout",
     "output_type": "stream",
     "text": [
      "PREDICTION\n",
      "tensor(2)\n",
      "LABEL SIZE\n",
      "torch.Size([100])\n",
      "LABEL FOR IMAGE 1\n",
      "tensor(2)\n"
     ]
    }
   ],
   "source": [
    "iter_test = 0\n",
    "for images, labels in test_loader:\n",
    "    iter_test += 1\n",
    "    images = Variable(images.view(-1, 28*28))\n",
    "    outputs = model(images)\n",
    "    _, predicted = torch.max(outputs.data, 1)\n",
    "    if iter_test == 1:\n",
    "        print('PREDICTION')\n",
    "        print(predicted[1])\n",
    "        \n",
    "        print('LABEL SIZE')\n",
    "        print(labels.size())\n",
    "        \n",
    "        print('LABEL FOR IMAGE 1')\n",
    "        print(labels[1])\n",
    "        \n",
    "# show the model is doing well in first two images"
   ]
  },
  {
   "cell_type": "code",
   "execution_count": 86,
   "metadata": {},
   "outputs": [
    {
     "name": "stdout",
     "output_type": "stream",
     "text": [
      "tensor([7, 2, 1, 0, 4, 1, 4, 9, 6, 7, 0, 0, 9, 0, 1, 3, 9, 7, 3, 4, 7, 6, 6, 5,\n",
      "        4, 0, 7, 4, 0, 1, 3, 1, 3, 0, 7, 2, 7, 1, 3, 1, 1, 7, 4, 2, 3, 3, 3, 2,\n",
      "        4, 4, 6, 3, 5, 3, 2, 0, 4, 1, 9, 5, 7, 8, 9, 2, 7, 9, 2, 4, 3, 0, 7, 0,\n",
      "        2, 8, 1, 7, 3, 7, 1, 7, 9, 6, 2, 7, 8, 4, 7, 3, 6, 1, 3, 6, 8, 3, 1, 4,\n",
      "        1, 1, 6, 9])\n",
      "tensor([6, 0, 5, 4, 9, 9, 2, 1, 9, 4, 8, 1, 3, 9, 7, 9, 4, 4, 9, 7, 3, 6, 7, 6,\n",
      "        4, 9, 0, 5, 8, 5, 6, 6, 5, 7, 8, 1, 0, 1, 6, 4, 6, 7, 3, 1, 7, 1, 8, 2,\n",
      "        0, 6, 9, 9, 5, 5, 1, 5, 6, 0, 3, 4, 4, 6, 5, 4, 6, 3, 4, 4, 1, 4, 4, 7,\n",
      "        3, 3, 2, 1, 1, 8, 1, 8, 1, 8, 5, 0, 3, 9, 2, 3, 0, 1, 1, 3, 0, 9, 0, 8,\n",
      "        1, 6, 4, 2])\n",
      "tensor([3, 6, 1, 1, 1, 3, 9, 5, 2, 9, 4, 5, 9, 1, 9, 0, 3, 5, 7, 5, 7, 2, 2, 7,\n",
      "        1, 2, 8, 4, 1, 7, 3, 3, 8, 7, 7, 9, 2, 2, 4, 1, 3, 3, 8, 4, 2, 6, 0, 2,\n",
      "        4, 2, 9, 1, 9, 5, 7, 7, 1, 1, 2, 0, 8, 1, 7, 7, 3, 1, 8, 1, 3, 0, 3, 0,\n",
      "        1, 9, 9, 4, 1, 8, 2, 1, 2, 9, 7, 5, 9, 2, 6, 4, 1, 3, 4, 2, 9, 2, 0, 4,\n",
      "        0, 0, 2, 8])\n",
      "tensor([1, 7, 1, 2, 9, 0, 2, 9, 4, 3, 3, 0, 0, 3, 1, 9, 6, 1, 0, 3, 1, 8, 9, 3,\n",
      "        0, 8, 2, 0, 7, 1, 1, 2, 1, 5, 3, 3, 9, 7, 8, 6, 3, 4, 1, 3, 8, 1, 8, 5,\n",
      "        1, 7, 1, 5, 0, 6, 8, 8, 5, 1, 7, 9, 4, 6, 7, 1, 5, 0, 6, 3, 6, 3, 7, 2,\n",
      "        0, 8, 8, 5, 9, 1, 1, 4, 0, 7, 3, 7, 6, 1, 6, 2, 1, 9, 2, 8, 6, 1, 9, 5,\n",
      "        2, 5, 4, 4])\n",
      "tensor([2, 8, 3, 9, 2, 4, 0, 0, 3, 1, 7, 1, 3, 7, 9, 7, 1, 9, 2, 1, 4, 2, 9, 2,\n",
      "        0, 4, 9, 1, 4, 8, 1, 8, 4, 4, 9, 8, 8, 3, 7, 6, 0, 0, 3, 8, 8, 0, 6, 4,\n",
      "        8, 3, 3, 3, 2, 3, 9, 1, 1, 5, 8, 0, 5, 6, 6, 6, 7, 8, 8, 2, 8, 5, 8, 9,\n",
      "        6, 1, 8, 4, 1, 2, 8, 3, 1, 9, 7, 0, 4, 0, 9, 4, 9, 1, 0, 5, 2, 3, 7, 6,\n",
      "        9, 8, 8, 6])\n",
      "tensor([3, 9, 2, 2, 1, 3, 1, 5, 8, 3, 7, 8, 2, 2, 2, 8, 2, 6, 5, 9, 8, 9, 7, 8,\n",
      "        3, 0, 3, 3, 3, 1, 9, 6, 4, 4, 6, 4, 1, 1, 8, 2, 5, 4, 8, 3, 4, 0, 0, 2,\n",
      "        3, 2, 9, 1, 6, 6, 7, 4, 4, 7, 9, 6, 9, 0, 9, 8, 0, 9, 6, 0, 6, 5, 5, 4,\n",
      "        8, 3, 3, 9, 3, 3, 8, 7, 8, 0, 2, 2, 1, 7, 0, 6, 3, 4, 3, 3, 0, 7, 6, 3,\n",
      "        8, 0, 9, 9])\n",
      "tensor([6, 8, 6, 8, 5, 9, 3, 6, 0, 2, 6, 0, 2, 8, 3, 1, 9, 7, 3, 8, 0, 8, 4, 6,\n",
      "        1, 6, 7, 9, 9, 6, 9, 8, 2, 2, 9, 2, 7, 3, 7, 9, 1, 8, 0, 2, 0, 6, 6, 1,\n",
      "        3, 7, 6, 7, 1, 2, 0, 8, 0, 3, 4, 7, 4, 6, 9, 1, 8, 6, 7, 1, 4, 3, 4, 2,\n",
      "        1, 4, 3, 1, 7, 3, 9, 7, 6, 9, 1, 3, 3, 8, 3, 3, 6, 7, 2, 4, 7, 8, 8, 1,\n",
      "        1, 4, 4, 3])\n",
      "tensor([1, 0, 7, 7, 0, 7, 9, 9, 4, 8, 5, 5, 4, 0, 3, 2, 1, 6, 8, 4, 8, 0, 4, 0,\n",
      "        6, 1, 3, 3, 8, 6, 0, 2, 6, 9, 3, 1, 4, 6, 8, 3, 9, 8, 0, 6, 2, 1, 7, 3,\n",
      "        9, 1, 0, 3, 4, 3, 1, 1, 7, 4, 9, 9, 9, 8, 4, 0, 2, 4, 5, 1, 1, 6, 4, 7,\n",
      "        1, 9, 9, 2, 4, 1, 5, 5, 3, 3, 3, 1, 4, 5, 6, 8, 9, 4, 1, 9, 3, 8, 0, 6,\n",
      "        2, 8, 1, 2])\n",
      "tensor([3, 3, 4, 4, 0, 8, 8, 3, 3, 1, 7, 3, 5, 9, 6, 3, 2, 6, 1, 3, 6, 0, 7, 2,\n",
      "        1, 7, 1, 8, 2, 4, 2, 1, 9, 9, 6, 1, 1, 2, 4, 3, 1, 7, 7, 4, 3, 0, 7, 3,\n",
      "        1, 3, 1, 0, 7, 7, 0, 3, 5, 3, 2, 7, 6, 6, 9, 2, 8, 3, 5, 2, 2, 5, 6, 0,\n",
      "        8, 2, 9, 2, 3, 2, 3, 8, 7, 9, 9, 3, 0, 6, 6, 3, 2, 1, 3, 2, 2, 9, 3, 0,\n",
      "        0, 5, 1, 8])\n",
      "tensor([1, 4, 3, 6, 0, 2, 4, 1, 4, 7, 4, 7, 3, 9, 8, 8, 4, 7, 1, 1, 1, 2, 2, 3,\n",
      "        7, 3, 2, 3, 9, 1, 1, 4, 0, 3, 5, 5, 8, 6, 5, 0, 6, 7, 6, 1, 8, 2, 7, 9,\n",
      "        1, 1, 2, 4, 6, 4, 9, 5, 6, 3, 3, 5, 1, 8, 9, 1, 1, 0, 7, 1, 4, 4, 5, 4,\n",
      "        0, 6, 2, 3, 3, 1, 5, 1, 2, 0, 8, 8, 1, 2, 6, 7, 1, 6, 2, 3, 9, 0, 3, 2,\n",
      "        2, 0, 9, 9])\n",
      "tensor([7, 0, 2, 3, 1, 9, 7, 8, 1, 0, 4, 1, 9, 9, 0, 8, 2, 6, 8, 1, 3, 7, 5, 4,\n",
      "        8, 1, 8, 1, 3, 8, 1, 2, 8, 8, 0, 6, 2, 1, 1, 9, 1, 5, 3, 4, 6, 9, 5, 0,\n",
      "        9, 2, 0, 4, 9, 2, 1, 7, 2, 4, 9, 4, 4, 0, 9, 9, 2, 2, 3, 3, 8, 3, 5, 7,\n",
      "        3, 5, 8, 1, 2, 9, 6, 6, 4, 9, 3, 1, 0, 6, 9, 5, 9, 3, 9, 1, 1, 8, 0, 3,\n",
      "        0, 1, 3, 6])\n",
      "tensor([7, 2, 5, 9, 7, 9, 6, 3, 6, 3, 7, 4, 6, 5, 8, 9, 9, 8, 8, 2, 8, 6, 7, 6,\n",
      "        8, 9, 7, 8, 7, 1, 9, 5, 2, 7, 3, 1, 1, 1, 2, 1, 4, 7, 4, 7, 3, 4, 5, 4,\n",
      "        0, 8, 3, 6, 9, 5, 0, 2, 7, 4, 4, 8, 4, 6, 6, 4, 7, 9, 3, 4, 5, 5, 8, 7,\n",
      "        3, 9, 2, 7, 3, 2, 6, 1, 1, 1, 6, 9, 2, 8, 7, 2, 0, 1, 5, 0, 3, 1, 7, 0,\n",
      "        6, 6, 4, 6])\n",
      "tensor([5, 1, 8, 0, 9, 3, 2, 2, 9, 1, 2, 1, 6, 1, 1, 3, 7, 1, 0, 3, 0, 5, 4, 0,\n",
      "        6, 8, 2, 2, 3, 8, 4, 0, 8, 6, 5, 3, 1, 2, 1, 3, 1, 7, 9, 6, 7, 2, 0, 0,\n",
      "        3, 8, 1, 6, 3, 4, 1, 9, 3, 1, 5, 8, 1, 0, 2, 4, 4, 3, 6, 9, 8, 2, 9, 0,\n",
      "        4, 6, 4, 4, 7, 9, 3, 4, 1, 5, 9, 2, 3, 5, 8, 8, 2, 4, 3, 5, 6, 6, 0, 1,\n",
      "        6, 0, 3, 7])\n",
      "tensor([4, 4, 1, 2, 9, 1, 4, 6, 2, 9, 3, 9, 8, 4, 4, 3, 1, 8, 1, 3, 1, 7, 9, 4,\n",
      "        8, 8, 2, 4, 9, 1, 4, 5, 6, 0, 3, 2, 2, 6, 1, 3, 8, 2, 4, 9, 1, 6, 7, 9,\n",
      "        2, 2, 1, 1, 2, 8, 3, 7, 2, 9, 1, 7, 1, 7, 6, 7, 2, 2, 7, 3, 1, 7, 5, 8,\n",
      "        2, 6, 0, 8, 5, 6, 8, 0, 9, 2, 4, 3, 9, 9, 7, 6, 6, 8, 0, 4, 1, 3, 3, 2,\n",
      "        9, 1, 8, 0])\n",
      "tensor([6, 7, 7, 1, 8, 5, 8, 2, 0, 1, 6, 0, 2, 9, 9, 8, 0, 9, 9, 4, 6, 0, 4, 9,\n",
      "        1, 8, 3, 4, 9, 9, 1, 1, 3, 1, 1, 9, 1, 4, 0, 9, 6, 8, 3, 8, 0, 0, 2, 5,\n",
      "        1, 9, 2, 2, 9, 9, 0, 9, 6, 0, 6, 2, 5, 4, 0, 7, 3, 1, 3, 5, 0, 6, 8, 5,\n",
      "        3, 5, 8, 6, 3, 7, 6, 3, 3, 9, 6, 1, 1, 2, 9, 0, 4, 3, 3, 6, 9, 5, 9, 3,\n",
      "        7, 7, 7, 3])\n",
      "tensor([1, 9, 8, 3, 0, 7, 2, 7, 9, 4, 5, 4, 9, 3, 8, 1, 4, 0, 2, 3, 7, 5, 9, 8,\n",
      "        8, 0, 0, 6, 1, 4, 7, 3, 9, 0, 0, 0, 6, 6, 2, 3, 7, 8, 4, 7, 7, 4, 2, 4,\n",
      "        1, 6, 5, 2, 4, 8, 9, 1, 9, 4, 0, 3, 8, 4, 3, 7, 7, 0, 7, 8, 8, 2, 0, 9,\n",
      "        8, 8, 2, 4, 7, 6, 6, 8, 4, 9, 1, 8, 8, 2, 3, 5, 3, 0, 0, 3, 7, 6, 9, 7,\n",
      "        9, 9, 5, 4])\n",
      "tensor([3, 7, 6, 1, 3, 3, 7, 3, 3, 6, 0, 3, 3, 8, 4, 3, 0, 3, 7, 0, 2, 0, 9, 0,\n",
      "        7, 4, 6, 9, 3, 5, 1, 9, 6, 1, 7, 5, 4, 3, 0, 5, 4, 0, 2, 1, 8, 9, 1, 9,\n",
      "        9, 4, 0, 8, 4, 5, 2, 9, 2, 1, 1, 1, 2, 3, 6, 8, 8, 4, 9, 1, 9, 8, 5, 7,\n",
      "        5, 1, 1, 8, 6, 5, 7, 4, 4, 7, 0, 3, 1, 6, 5, 1, 6, 2, 3, 1, 0, 5, 1, 7,\n",
      "        1, 9, 6, 7])\n",
      "tensor([0, 9, 8, 7, 1, 7, 4, 1, 0, 3, 7, 2, 0, 0, 9, 1, 1, 0, 4, 8, 4, 7, 6, 0,\n",
      "        4, 6, 0, 7, 1, 1, 3, 3, 9, 2, 7, 9, 1, 3, 3, 0, 8, 1, 3, 9, 6, 9, 3, 5,\n",
      "        0, 8, 7, 2, 3, 1, 1, 3, 8, 0, 8, 6, 1, 5, 0, 3, 0, 3, 1, 4, 0, 3, 7, 2,\n",
      "        6, 1, 5, 0, 7, 0, 4, 3, 1, 9, 2, 7, 7, 1, 4, 9, 9, 3, 7, 1, 7, 7, 0, 2,\n",
      "        0, 3, 3, 7])\n",
      "tensor([4, 0, 2, 3, 3, 7, 7, 0, 0, 7, 3, 2, 9, 5, 7, 4, 4, 2, 6, 6, 1, 9, 6, 8,\n",
      "        2, 9, 0, 8, 3, 1, 1, 6, 3, 5, 1, 1, 1, 3, 1, 8, 3, 0, 8, 2, 1, 3, 5, 5,\n",
      "        7, 4, 7, 9, 6, 9, 6, 8, 3, 4, 6, 8, 3, 1, 4, 2, 4, 1, 3, 1, 4, 9, 0, 2,\n",
      "        4, 9, 5, 7, 1, 8, 3, 8, 6, 9, 8, 7, 1, 1, 1, 7, 6, 3, 2, 2, 0, 3, 9, 2,\n",
      "        3, 1, 0, 1])\n",
      "tensor([8, 4, 3, 4, 9, 6, 9, 0, 6, 1, 3, 0, 1, 3, 8, 2, 6, 8, 0, 7, 4, 6, 1, 3,\n",
      "        4, 7, 3, 2, 3, 4, 4, 3, 2, 9, 1, 7, 2, 6, 6, 1, 0, 4, 8, 6, 0, 1, 8, 2,\n",
      "        4, 7, 7, 6, 8, 3, 4, 2, 4, 2, 4, 0, 8, 8, 3, 4, 9, 2, 7, 5, 1, 6, 3, 6,\n",
      "        0, 3, 6, 7, 3, 6, 4, 9, 4, 6, 5, 3, 0, 4, 1, 0, 1, 9, 6, 2, 9, 8, 1, 0,\n",
      "        6, 3, 9, 5])\n",
      "tensor([6, 5, 6, 5, 9, 0, 6, 4, 3, 0, 1, 3, 4, 1, 9, 1, 2, 1, 1, 9, 3, 5, 4, 0,\n",
      "        9, 3, 6, 1, 8, 5, 5, 3, 3, 0, 1, 3, 7, 3, 8, 6, 6, 1, 0, 8, 7, 3, 4, 0,\n",
      "        7, 9, 8, 1, 8, 9, 9, 2, 8, 2, 2, 7, 0, 0, 6, 1, 5, 8, 6, 0, 4, 3, 9, 1,\n",
      "        3, 5, 4, 3, 3, 5, 5, 6, 8, 0, 1, 3, 4, 2, 3, 0, 9, 9, 9, 7, 2, 1, 9, 7,\n",
      "        0, 6, 0, 9])\n",
      "tensor([3, 2, 8, 5, 7, 3, 0, 0, 2, 7, 8, 8, 2, 3, 5, 0, 6, 4, 3, 8, 4, 8, 2, 7,\n",
      "        4, 9, 2, 0, 3, 2, 9, 6, 7, 2, 4, 1, 1, 1, 8, 3, 2, 7, 8, 7, 6, 4, 8, 9,\n",
      "        4, 8, 6, 3, 3, 3, 1, 0, 6, 2, 2, 5, 6, 4, 5, 8, 1, 4, 1, 7, 2, 4, 6, 1,\n",
      "        8, 4, 3, 1, 2, 3, 0, 8, 3, 9, 3, 6, 2, 8, 0, 7, 0, 1, 0, 8, 3, 7, 6, 7,\n",
      "        9, 1, 2, 6])\n",
      "tensor([2, 4, 4, 8, 0, 4, 4, 5, 3, 0, 6, 8, 9, 8, 3, 2, 9, 0, 9, 8, 7, 1, 3, 4,\n",
      "        6, 8, 0, 9, 1, 9, 3, 6, 4, 4, 7, 1, 0, 6, 7, 1, 7, 5, 2, 7, 9, 1, 8, 5,\n",
      "        2, 4, 9, 4, 7, 2, 2, 3, 4, 9, 1, 9, 2, 1, 7, 4, 4, 4, 6, 6, 7, 1, 7, 8,\n",
      "        0, 1, 9, 7, 1, 1, 7, 3, 3, 3, 3, 1, 3, 7, 6, 1, 3, 8, 7, 5, 9, 0, 0, 0,\n",
      "        2, 8, 8, 7])\n",
      "tensor([3, 7, 1, 3, 0, 1, 4, 4, 3, 8, 9, 2, 3, 9, 7, 1, 1, 7, 0, 6, 5, 6, 3, 9,\n",
      "        1, 1, 0, 2, 0, 0, 4, 6, 7, 0, 7, 1, 4, 6, 4, 7, 4, 9, 9, 1, 7, 9, 5, 3,\n",
      "        3, 8, 2, 0, 6, 2, 2, 1, 1, 1, 1, 1, 6, 9, 1, 4, 3, 7, 1, 6, 4, 9, 0, 4,\n",
      "        7, 4, 1, 4, 0, 7, 0, 1, 2, 7, 2, 6, 0, 0, 7, 1, 6, 8, 2, 2, 3, 3, 9, 3,\n",
      "        0, 8, 1, 7])\n",
      "tensor([3, 4, 4, 0, 2, 3, 1, 7, 7, 1, 0, 1, 2, 3, 1, 2, 1, 0, 1, 8, 9, 1, 4, 8,\n",
      "        3, 3, 9, 3, 6, 8, 8, 3, 2, 1, 1, 0, 4, 2, 7, 3, 4, 3, 7, 9, 1, 4, 2, 9,\n",
      "        9, 8, 3, 8, 3, 3, 6, 0, 9, 8, 6, 2, 9, 0, 0, 7, 4, 6, 6, 8, 6, 6, 8, 6,\n",
      "        9, 1, 7, 8, 0, 9, 9, 0, 7, 2, 7, 6, 7, 0, 6, 5, 6, 4, 7, 2, 0, 9, 9, 2,\n"
     ]
    },
    {
     "name": "stdout",
     "output_type": "stream",
     "text": [
      "        2, 9, 4, 4])\n",
      "tensor([1, 3, 3, 2, 1, 7, 0, 9, 6, 4, 1, 3, 8, 1, 4, 6, 2, 2, 5, 1, 3, 7, 3, 7,\n",
      "        1, 3, 3, 0, 9, 1, 4, 0, 6, 3, 3, 2, 0, 4, 9, 7, 0, 1, 0, 8, 9, 5, 5, 7,\n",
      "        9, 3, 8, 3, 8, 1, 5, 3, 9, 0, 5, 3, 6, 8, 6, 7, 1, 7, 3, 7, 0, 3, 9, 0,\n",
      "        2, 1, 7, 3, 1, 7, 2, 8, 6, 5, 7, 3, 8, 9, 3, 3, 7, 0, 1, 7, 0, 0, 3, 7,\n",
      "        2, 8, 2, 1])\n",
      "tensor([8, 6, 2, 9, 3, 7, 5, 8, 1, 6, 8, 8, 1, 4, 8, 4, 3, 8, 3, 0, 6, 2, 7, 3,\n",
      "        3, 2, 1, 0, 2, 3, 4, 6, 3, 9, 3, 4, 8, 9, 0, 3, 8, 0, 7, 6, 5, 4, 7, 3,\n",
      "        0, 0, 8, 6, 2, 5, 1, 1, 0, 0, 8, 8, 0, 1, 2, 3, 2, 1, 7, 8, 0, 2, 8, 7,\n",
      "        6, 9, 1, 4, 1, 6, 4, 2, 4, 3, 5, 4, 7, 9, 5, 0, 1, 3, 8, 8, 9, 1, 9, 6,\n",
      "        9, 9, 5, 2])\n",
      "tensor([7, 4, 6, 0, 1, 1, 1, 0, 4, 4, 7, 6, 3, 8, 0, 9, 3, 0, 6, 1, 9, 6, 1, 3,\n",
      "        8, 1, 2, 5, 2, 2, 4, 3, 6, 0, 1, 9, 7, 6, 6, 8, 7, 2, 9, 8, 8, 3, 1, 0,\n",
      "        0, 7, 8, 0, 2, 1, 6, 9, 3, 1, 3, 6, 8, 0, 6, 0, 0, 0, 6, 3, 5, 9, 6, 9,\n",
      "        1, 5, 8, 5, 3, 0, 4, 0, 3, 9, 6, 8, 2, 3, 1, 2, 1, 1, 5, 6, 9, 8, 0, 6,\n",
      "        6, 5, 5, 3])\n",
      "tensor([8, 2, 0, 1, 4, 4, 4, 3, 7, 8, 3, 0, 9, 3, 5, 1, 1, 0, 4, 4, 2, 0, 1, 7,\n",
      "        0, 1, 6, 1, 4, 5, 6, 6, 3, 7, 3, 4, 4, 7, 8, 5, 3, 7, 0, 7, 7, 9, 6, 4,\n",
      "        2, 8, 0, 9, 8, 3, 7, 1, 8, 9, 9, 8, 6, 1, 8, 9, 2, 3, 6, 1, 1, 8, 9, 3,\n",
      "        4, 0, 7, 9, 6, 4, 1, 4, 1, 3, 4, 9, 3, 1, 4, 7, 7, 4, 7, 2, 9, 3, 0, 8,\n",
      "        0, 8, 4, 0])\n",
      "tensor([4, 1, 1, 3, 2, 1, 3, 4, 9, 5, 2, 8, 1, 5, 9, 7, 9, 4, 2, 9, 6, 3, 5, 9,\n",
      "        3, 0, 9, 2, 1, 4, 3, 3, 0, 6, 9, 8, 4, 0, 4, 9, 2, 9, 0, 1, 0, 7, 1, 6,\n",
      "        5, 8, 1, 5, 3, 5, 0, 3, 3, 1, 9, 2, 8, 7, 0, 4, 9, 1, 9, 7, 7, 8, 3, 2,\n",
      "        0, 9, 1, 8, 6, 3, 3, 9, 6, 2, 1, 9, 1, 3, 5, 5, 0, 1, 9, 3, 3, 7, 6, 8,\n",
      "        0, 1, 9, 0])\n",
      "tensor([6, 9, 8, 1, 2, 1, 9, 5, 9, 7, 3, 0, 8, 0, 1, 3, 0, 4, 6, 1, 0, 2, 5, 6,\n",
      "        4, 4, 1, 1, 5, 9, 6, 6, 0, 4, 9, 2, 6, 2, 7, 1, 7, 9, 4, 0, 0, 3, 8, 2,\n",
      "        2, 3, 1, 6, 0, 5, 7, 7, 9, 2, 6, 7, 7, 2, 8, 6, 8, 1, 4, 6, 8, 4, 1, 2,\n",
      "        8, 2, 3, 9, 4, 0, 3, 7, 3, 2, 3, 3, 7, 3, 4, 0, 6, 1, 0, 8, 1, 3, 3, 5,\n",
      "        4, 1, 9, 1])\n",
      "tensor([3, 7, 3, 7, 3, 2, 2, 7, 5, 7, 3, 7, 3, 5, 6, 5, 2, 7, 6, 5, 3, 6, 7, 4,\n",
      "        1, 7, 1, 5, 2, 3, 0, 3, 1, 9, 2, 6, 1, 4, 0, 3, 0, 6, 2, 1, 6, 9, 9, 9,\n",
      "        1, 9, 3, 1, 1, 3, 4, 4, 6, 3, 8, 6, 9, 7, 7, 8, 6, 9, 2, 1, 9, 4, 0, 3,\n",
      "        4, 6, 4, 1, 7, 3, 0, 0, 2, 6, 6, 8, 7, 0, 8, 6, 4, 4, 9, 0, 7, 8, 4, 2,\n",
      "        1, 8, 8, 5])\n",
      "tensor([9, 2, 7, 1, 8, 3, 3, 2, 7, 6, 0, 1, 2, 7, 1, 0, 1, 3, 5, 0, 5, 3, 6, 2,\n",
      "        8, 1, 0, 1, 4, 2, 1, 1, 4, 4, 4, 4, 7, 1, 6, 2, 3, 9, 0, 0, 1, 1, 3, 4,\n",
      "        3, 4, 2, 0, 1, 1, 5, 1, 2, 2, 2, 1, 2, 3, 1, 8, 1, 0, 0, 2, 1, 0, 6, 0,\n",
      "        1, 6, 2, 3, 1, 7, 4, 8, 7, 1, 4, 3, 7, 3, 9, 9, 4, 7, 3, 4, 7, 2, 7, 3,\n",
      "        7, 0, 4, 3])\n",
      "tensor([3, 1, 6, 7, 6, 0, 0, 6, 7, 7, 0, 5, 3, 8, 1, 0, 4, 0, 2, 9, 1, 5, 0, 3,\n",
      "        3, 0, 3, 2, 7, 1, 3, 6, 4, 9, 5, 5, 7, 2, 9, 2, 8, 4, 6, 8, 8, 3, 0, 0,\n",
      "        8, 7, 6, 1, 7, 1, 1, 2, 7, 4, 5, 0, 7, 7, 6, 3, 8, 6, 4, 2, 0, 1, 4, 0,\n",
      "        3, 7, 8, 2, 9, 6, 7, 1, 1, 9, 6, 6, 6, 7, 1, 9, 9, 8, 3, 6, 9, 5, 2, 6,\n",
      "        2, 4, 6, 7])\n",
      "tensor([7, 0, 6, 6, 2, 4, 8, 3, 3, 3, 9, 9, 0, 0, 3, 2, 5, 0, 7, 1, 1, 1, 6, 7,\n",
      "        6, 7, 9, 6, 6, 9, 1, 4, 3, 1, 1, 2, 7, 9, 1, 0, 8, 7, 6, 3, 4, 0, 0, 2,\n",
      "        3, 3, 8, 7, 1, 1, 1, 1, 3, 1, 0, 2, 2, 7, 5, 4, 1, 4, 8, 9, 4, 3, 5, 1,\n",
      "        9, 8, 2, 7, 3, 9, 9, 0, 1, 0, 2, 2, 3, 9, 3, 3, 6, 2, 3, 9, 8, 3, 1, 4,\n",
      "        0, 4, 7, 8])\n",
      "tensor([4, 9, 2, 5, 9, 7, 6, 9, 2, 8, 3, 7, 0, 2, 2, 3, 8, 4, 6, 3, 4, 3, 2, 4,\n",
      "        6, 2, 9, 3, 3, 9, 4, 3, 1, 4, 4, 7, 0, 5, 9, 6, 0, 4, 4, 6, 4, 6, 1, 2,\n",
      "        3, 2, 6, 4, 0, 9, 6, 8, 4, 6, 0, 8, 6, 4, 1, 8, 6, 3, 2, 8, 4, 5, 5, 4,\n",
      "        7, 4, 0, 7, 8, 8, 7, 3, 1, 0, 1, 3, 0, 7, 1, 9, 8, 7, 5, 3, 9, 1, 7, 5,\n",
      "        4, 3, 8, 3])\n",
      "tensor([1, 1, 6, 6, 4, 1, 1, 4, 0, 7, 4, 2, 4, 0, 2, 4, 7, 6, 7, 5, 3, 4, 6, 5,\n",
      "        0, 1, 3, 8, 2, 3, 3, 5, 7, 8, 0, 8, 9, 7, 1, 1, 0, 1, 3, 7, 8, 9, 6, 7,\n",
      "        1, 1, 0, 1, 1, 4, 8, 2, 9, 6, 2, 3, 0, 2, 5, 5, 4, 6, 9, 7, 2, 1, 3, 6,\n",
      "        4, 1, 8, 2, 4, 0, 3, 1, 0, 3, 2, 6, 4, 0, 3, 9, 6, 1, 6, 5, 7, 9, 2, 0,\n",
      "        2, 6, 0, 1])\n",
      "tensor([4, 3, 3, 2, 8, 8, 0, 8, 8, 9, 0, 9, 6, 1, 6, 3, 3, 3, 9, 7, 7, 7, 4, 9,\n",
      "        0, 6, 9, 0, 4, 2, 9, 2, 1, 1, 0, 0, 1, 8, 0, 3, 3, 1, 3, 7, 6, 1, 3, 1,\n",
      "        6, 2, 4, 1, 2, 7, 5, 9, 3, 2, 4, 9, 9, 1, 1, 4, 0, 1, 3, 2, 0, 7, 4, 8,\n",
      "        8, 2, 0, 2, 8, 1, 6, 1, 6, 8, 3, 9, 1, 8, 1, 3, 5, 1, 0, 7, 4, 4, 3, 3,\n",
      "        1, 5, 9, 7])\n",
      "tensor([1, 0, 2, 0, 0, 0, 4, 8, 8, 1, 5, 3, 3, 8, 5, 1, 8, 2, 0, 4, 0, 4, 6, 2,\n",
      "        3, 3, 5, 6, 4, 8, 0, 9, 2, 8, 3, 2, 4, 5, 1, 8, 9, 4, 9, 1, 2, 8, 2, 0,\n",
      "        1, 0, 4, 1, 1, 0, 7, 0, 9, 9, 1, 2, 5, 9, 3, 5, 0, 4, 1, 0, 8, 4, 0, 8,\n",
      "        9, 8, 9, 4, 3, 5, 7, 0, 8, 9, 8, 0, 2, 7, 6, 8, 9, 9, 5, 9, 8, 6, 1, 0,\n",
      "        3, 3, 5, 2])\n",
      "tensor([1, 6, 3, 0, 2, 8, 3, 5, 6, 2, 3, 0, 2, 2, 6, 4, 3, 5, 9, 1, 7, 2, 1, 6,\n",
      "        9, 8, 3, 9, 3, 5, 1, 6, 2, 2, 8, 6, 7, 1, 9, 2, 0, 6, 0, 5, 3, 2, 1, 3,\n",
      "        6, 8, 9, 8, 3, 3, 9, 5, 4, 5, 2, 0, 5, 6, 4, 2, 8, 3, 4, 9, 3, 7, 9, 4,\n",
      "        6, 7, 1, 3, 1, 3, 6, 6, 0, 9, 0, 1, 1, 9, 1, 8, 8, 5, 1, 6, 9, 7, 8, 3,\n",
      "        4, 7, 6, 9])\n",
      "tensor([4, 4, 3, 6, 3, 1, 1, 7, 6, 9, 1, 8, 4, 1, 1, 9, 9, 9, 3, 6, 8, 1, 6, 0,\n",
      "        4, 1, 3, 7, 7, 4, 9, 3, 1, 0, 0, 1, 1, 1, 3, 1, 9, 8, 4, 0, 3, 6, 4, 9,\n",
      "        0, 7, 1, 6, 3, 7, 3, 2, 5, 1, 8, 5, 4, 7, 0, 5, 7, 6, 2, 5, 3, 1, 0, 6,\n",
      "        3, 7, 1, 0, 9, 1, 2, 0, 0, 6, 0, 7, 3, 1, 6, 3, 9, 7, 0, 0, 8, 4, 5, 9,\n",
      "        8, 3, 2, 7])\n",
      "tensor([2, 9, 7, 2, 1, 1, 3, 7, 7, 3, 1, 2, 8, 2, 2, 2, 3, 8, 5, 7, 3, 8, 9, 8,\n",
      "        3, 6, 8, 2, 3, 9, 7, 1, 6, 2, 9, 2, 8, 8, 1, 4, 2, 9, 7, 9, 1, 3, 0, 1,\n",
      "        7, 2, 0, 7, 1, 1, 4, 0, 1, 0, 9, 3, 6, 2, 3, 0, 3, 8, 0, 2, 1, 1, 1, 1,\n",
      "        4, 2, 9, 7, 6, 5, 1, 1, 3, 1, 9, 9, 9, 1, 0, 2, 0, 2, 1, 1, 4, 6, 9, 1,\n",
      "        3, 4, 9, 9])\n",
      "tensor([7, 5, 5, 6, 2, 1, 2, 8, 0, 6, 9, 5, 3, 9, 7, 9, 1, 4, 8, 5, 3, 4, 3, 4,\n",
      "        7, 7, 5, 0, 2, 4, 6, 8, 1, 5, 3, 9, 5, 9, 9, 5, 9, 0, 3, 6, 3, 9, 8, 2,\n",
      "        1, 1, 2, 8, 6, 8, 3, 0, 0, 9, 4, 9, 2, 9, 1, 3, 1, 8, 4, 1, 4, 4, 3, 3,\n",
      "        4, 1, 1, 2, 3, 3, 0, 2, 9, 0, 0, 9, 3, 6, 0, 9, 3, 7, 8, 4, 1, 4, 0, 7,\n",
      "        2, 1, 4, 9])\n",
      "tensor([8, 9, 1, 1, 1, 8, 7, 5, 1, 9, 5, 3, 1, 9, 9, 4, 9, 7, 1, 9, 0, 9, 7, 7,\n",
      "        4, 7, 2, 0, 1, 0, 8, 1, 4, 9, 3, 3, 6, 1, 3, 2, 3, 3, 2, 0, 4, 2, 6, 6,\n",
      "        0, 1, 2, 0, 3, 0, 2, 5, 8, 7, 7, 7, 3, 6, 8, 9, 0, 0, 3, 2, 3, 8, 0, 8,\n",
      "        8, 4, 6, 8, 8, 4, 5, 4, 5, 5, 9, 9, 2, 2, 1, 2, 6, 1, 8, 7, 0, 3, 6, 2,\n",
      "        4, 3, 8, 8])\n",
      "tensor([7, 2, 2, 0, 0, 9, 3, 9, 2, 1, 9, 8, 6, 1, 4, 0, 6, 9, 2, 8, 3, 4, 3, 1,\n",
      "        9, 9, 9, 1, 1, 8, 3, 4, 0, 6, 3, 7, 9, 3, 4, 6, 3, 6, 2, 3, 9, 2, 6, 0,\n",
      "        0, 0, 1, 8, 8, 7, 8, 0, 2, 0, 4, 7, 7, 5, 0, 4, 2, 4, 6, 7, 4, 3, 0, 7,\n",
      "        5, 0, 7, 4, 2, 3, 8, 9, 9, 4, 2, 1, 6, 7, 8, 7, 6, 9, 4, 1, 3, 7, 3, 0,\n",
      "        8, 7, 1, 6])\n",
      "tensor([1, 3, 9, 1, 2, 4, 2, 2, 8, 3, 2, 2, 6, 8, 4, 0, 1, 2, 8, 4, 5, 7, 7, 1,\n",
      "        1, 1, 3, 0, 3, 5, 7, 0, 3, 1, 9, 3, 6, 3, 1, 7, 8, 8, 0, 8, 4, 8, 2, 6,\n",
      "        0, 2, 9, 7, 3, 9, 0, 9, 9, 6, 4, 2, 2, 7, 2, 1, 1, 6, 7, 9, 7, 5, 9, 2,\n",
      "        8, 2, 1, 2, 4, 8, 9, 6, 1, 3, 2, 8, 9, 9, 3, 6, 1, 1, 4, 6, 4, 7, 2, 1,\n",
      "        5, 1, 4, 6])\n",
      "tensor([3, 4, 1, 1, 0, 3, 1, 6, 8, 4, 9, 0, 7, 3, 0, 4, 9, 0, 0, 6, 6, 3, 6, 7,\n",
      "        7, 2, 8, 6, 0, 8, 3, 0, 2, 9, 1, 3, 2, 5, 3, 9, 8, 0, 0, 1, 9, 5, 1, 3,\n",
      "        9, 6, 0, 1, 4, 1, 7, 1, 4, 8, 1, 9, 7, 4, 4, 9, 3, 9, 2, 8, 2, 7, 1, 3,\n",
      "        0, 9, 1, 0, 1, 7, 7, 4, 6, 7, 9, 9, 2, 1, 0, 1, 3, 5, 7, 1, 9, 7, 6, 9,\n",
      "        3, 7, 6, 1])\n",
      "tensor([9, 9, 6, 3, 6, 2, 9, 8, 1, 2, 2, 5, 9, 2, 3, 7, 2, 1, 0, 1, 0, 4, 7, 2,\n",
      "        0, 2, 8, 3, 5, 1, 7, 7, 1, 1, 2, 9, 7, 8, 6, 0, 3, 0, 7, 6, 8, 9, 7, 7,\n",
      "        8, 8, 8, 6, 9, 8, 1, 3, 8, 0, 3, 1, 7, 1, 5, 6, 1, 2, 5, 7, 4, 9, 3, 5,\n",
      "        4, 7, 1, 2, 0, 1, 1, 6, 0, 7, 3, 9, 7, 9, 9, 6, 0, 8, 6, 4, 8, 7, 7, 9,\n",
      "        3, 8, 6, 9])\n",
      "tensor([7, 2, 3, 4, 0, 2, 1, 3, 5, 5, 5, 7, 1, 4, 0, 7, 6, 8, 3, 0, 8, 7, 8, 6,\n",
      "        0, 4, 4, 9, 3, 3, 5, 6, 6, 3, 0, 9, 3, 1, 5, 8, 9, 3, 4, 9, 0, 8, 9, 1,\n",
      "        2, 8, 8, 6, 3, 1, 3, 7, 9, 3, 1, 1, 4, 7, 0, 9, 1, 7, 4, 5, 7, 1, 2, 1,\n",
      "        1, 3, 0, 6, 6, 1, 2, 6, 8, 7, 6, 6, 9, 3, 1, 0, 0, 2, 6, 0, 5, 9, 3, 8,\n"
     ]
    },
    {
     "name": "stdout",
     "output_type": "stream",
     "text": [
      "        9, 6, 6, 2])\n",
      "tensor([7, 9, 5, 1, 3, 2, 4, 3, 6, 1, 4, 4, 4, 7, 2, 8, 4, 1, 9, 9, 2, 7, 8, 0,\n",
      "        1, 3, 6, 1, 1, 4, 1, 1, 1, 5, 6, 0, 7, 0, 7, 3, 3, 2, 3, 7, 2, 9, 4, 9,\n",
      "        8, 1, 3, 1, 5, 1, 8, 7, 4, 0, 0, 0, 8, 2, 2, 4, 1, 2, 1, 9, 7, 2, 7, 3,\n",
      "        1, 3, 4, 9, 4, 1, 7, 3, 6, 3, 8, 3, 1, 6, 8, 6, 9, 9, 1, 7, 0, 7, 7, 3,\n",
      "        3, 2, 9, 0])\n",
      "tensor([3, 4, 9, 8, 4, 1, 0, 6, 0, 4, 6, 8, 6, 1, 1, 4, 8, 9, 2, 3, 8, 5, 9, 4,\n",
      "        2, 1, 9, 4, 3, 9, 6, 0, 4, 0, 6, 0, 1, 2, 2, 4, 7, 8, 9, 0, 1, 2, 2, 4,\n",
      "        7, 8, 9, 0, 1, 2, 3, 4, 8, 6, 7, 8, 9, 8, 3, 4, 7, 1, 6, 2, 1, 0, 4, 7,\n",
      "        1, 9, 3, 8, 4, 7, 2, 0, 9, 1, 4, 1, 4, 6, 9, 0, 6, 2, 1, 1, 1, 1, 7, 2,\n",
      "        4, 7, 5, 2])\n",
      "tensor([4, 4, 5, 8, 4, 2, 4, 7, 0, 0, 7, 1, 1, 1, 7, 6, 6, 6, 8, 2, 2, 7, 7, 4,\n",
      "        0, 2, 4, 2, 1, 8, 9, 6, 1, 0, 6, 4, 6, 9, 8, 0, 2, 0, 8, 2, 9, 6, 8, 0,\n",
      "        1, 2, 3, 4, 5, 6, 7, 0, 1, 3, 3, 4, 5, 6, 7, 8, 9, 0, 1, 2, 3, 4, 5, 6,\n",
      "        7, 8, 5, 4, 9, 9, 4, 7, 7, 3, 9, 8, 8, 3, 1, 5, 8, 2, 7, 4, 2, 1, 5, 4,\n",
      "        5, 5, 8, 6])\n",
      "tensor([4, 4, 4, 1, 8, 7, 5, 5, 1, 8, 9, 1, 8, 6, 3, 3, 2, 8, 6, 9, 9, 6, 5, 5,\n",
      "        3, 3, 8, 1, 6, 5, 6, 8, 1, 9, 7, 6, 8, 2, 7, 4, 7, 0, 9, 0, 0, 3, 2, 9,\n",
      "        3, 0, 2, 0, 1, 0, 1, 0, 4, 0, 1, 0, 4, 7, 9, 6, 2, 6, 2, 2, 8, 8, 0, 1,\n",
      "        2, 3, 4, 5, 6, 7, 9, 9, 0, 1, 2, 3, 4, 5, 6, 7, 0, 9, 0, 1, 2, 3, 4, 5,\n",
      "        6, 7, 0, 7])\n",
      "tensor([8, 0, 3, 6, 6, 0, 8, 0, 2, 3, 7, 7, 4, 7, 1, 9, 1, 7, 1, 4, 0, 0, 4, 1,\n",
      "        7, 5, 7, 1, 3, 3, 3, 6, 6, 9, 7, 4, 3, 0, 2, 3, 2, 6, 0, 8, 9, 4, 3, 5,\n",
      "        4, 8, 1, 5, 9, 0, 6, 4, 3, 6, 3, 3, 8, 1, 4, 7, 5, 7, 2, 2, 0, 0, 1, 7,\n",
      "        7, 9, 5, 9, 8, 9, 6, 8, 9, 2, 3, 6, 1, 2, 9, 8, 9, 3, 2, 6, 2, 4, 8, 4,\n",
      "        6, 3, 0, 1])\n",
      "tensor([5, 6, 7, 8, 9, 0, 1, 2, 3, 4, 5, 6, 7, 8, 9, 0, 1, 2, 3, 4, 5, 6, 7, 8,\n",
      "        9, 7, 4, 2, 0, 9, 0, 1, 5, 8, 8, 0, 2, 7, 8, 4, 4, 6, 1, 0, 4, 5, 3, 9,\n",
      "        4, 2, 0, 5, 0, 1, 3, 2, 9, 8, 6, 0, 1, 1, 8, 0, 4, 7, 7, 6, 3, 6, 0, 7,\n",
      "        3, 5, 4, 2, 4, 1, 8, 3, 5, 6, 7, 0, 6, 7, 1, 2, 5, 8, 1, 9, 3, 8, 2, 7,\n",
      "        7, 6, 7, 1])\n",
      "tensor([4, 6, 2, 9, 3, 0, 1, 2, 3, 4, 3, 6, 7, 0, 1, 2, 3, 4, 3, 0, 1, 2, 3, 9,\n",
      "        1, 6, 0, 9, 5, 0, 8, 0, 7, 7, 1, 1, 8, 9, 3, 6, 7, 2, 3, 8, 1, 2, 9, 3,\n",
      "        8, 7, 1, 7, 1, 1, 0, 3, 9, 2, 6, 9, 7, 9, 8, 7, 4, 9, 1, 0, 6, 5, 5, 3,\n",
      "        5, 3, 3, 9, 7, 6, 8, 5, 9, 6, 9, 3, 0, 3, 8, 9, 1, 8, 1, 6, 0, 0, 1, 2,\n",
      "        3, 4, 5, 6])\n",
      "tensor([7, 8, 9, 0, 1, 2, 3, 4, 6, 6, 7, 1, 9, 0, 1, 2, 3, 9, 5, 6, 9, 8, 9, 3,\n",
      "        5, 3, 2, 9, 3, 2, 1, 1, 5, 5, 2, 3, 2, 1, 3, 3, 7, 2, 8, 2, 8, 9, 1, 8,\n",
      "        8, 9, 8, 1, 0, 0, 9, 7, 8, 7, 5, 0, 6, 1, 3, 7, 4, 6, 1, 2, 5, 0, 7, 9,\n",
      "        9, 0, 3, 8, 4, 1, 5, 1, 8, 6, 5, 9, 0, 0, 0, 3, 9, 1, 6, 1, 2, 6, 6, 0,\n",
      "        4, 5, 6, 1])\n",
      "tensor([3, 8, 6, 3, 9, 9, 5, 9, 3, 7, 8, 5, 6, 4, 9, 6, 2, 2, 0, 9, 1, 0, 1, 2,\n",
      "        3, 4, 5, 6, 7, 8, 9, 0, 1, 2, 7, 6, 6, 0, 1, 2, 3, 4, 5, 6, 8, 1, 1, 3,\n",
      "        2, 6, 0, 7, 6, 9, 9, 6, 0, 7, 4, 1, 3, 2, 1, 2, 3, 8, 3, 2, 6, 5, 6, 2,\n",
      "        2, 7, 4, 8, 1, 8, 0, 3, 2, 9, 4, 1, 9, 2, 1, 9, 6, 7, 9, 0, 4, 6, 1, 7,\n",
      "        3, 8, 7, 2])\n",
      "tensor([9, 0, 3, 8, 3, 9, 0, 5, 7, 1, 6, 1, 0, 9, 6, 3, 4, 4, 0, 6, 2, 3, 4, 2,\n",
      "        9, 4, 6, 0, 0, 2, 0, 1, 4, 3, 6, 9, 8, 9, 0, 1, 2, 6, 4, 0, 6, 7, 8, 0,\n",
      "        1, 2, 3, 6, 3, 6, 7, 8, 9, 8, 9, 1, 3, 7, 3, 2, 8, 0, 9, 3, 9, 9, 0, 9,\n",
      "        1, 1, 3, 8, 8, 6, 3, 2, 1, 8, 3, 2, 6, 3, 6, 0, 0, 1, 3, 6, 3, 1, 9, 2,\n",
      "        1, 7, 6, 0])\n",
      "tensor([4, 6, 1, 7, 3, 8, 9, 2, 9, 6, 3, 8, 0, 0, 9, 1, 6, 1, 0, 9, 6, 1, 3, 9,\n",
      "        2, 3, 9, 4, 6, 0, 0, 2, 0, 1, 2, 3, 9, 3, 6, 7, 8, 9, 0, 1, 2, 3, 9, 3,\n",
      "        6, 7, 3, 9, 0, 1, 2, 8, 4, 3, 6, 7, 8, 7, 8, 6, 3, 0, 6, 8, 9, 4, 1, 9,\n",
      "        3, 3, 6, 9, 8, 9, 1, 4, 0, 3, 3, 2, 1, 3, 4, 0, 7, 6, 0, 1, 7, 0, 6, 8,\n",
      "        9, 3, 1, 7])\n",
      "tensor([9, 8, 6, 0, 9, 1, 7, 7, 1, 3, 2, 3, 1, 4, 2, 0, 0, 7, 8, 9, 6, 9, 9, 3,\n",
      "        9, 4, 7, 2, 3, 6, 3, 6, 9, 6, 3, 6, 2, 9, 6, 9, 0, 2, 3, 3, 1, 3, 3, 9,\n",
      "        7, 8, 7, 2, 2, 5, 7, 9, 3, 2, 1, 3, 1, 3, 0, 1, 2, 3, 4, 5, 6, 7, 8, 5,\n",
      "        0, 1, 2, 3, 4, 5, 6, 7, 2, 5, 0, 1, 2, 3, 4, 6, 6, 7, 8, 0, 1, 2, 6, 5,\n",
      "        3, 0, 7, 0])\n",
      "tensor([4, 1, 4, 3, 6, 7, 2, 3, 1, 6, 1, 8, 0, 6, 0, 1, 3, 0, 2, 7, 5, 7, 6, 2,\n",
      "        0, 1, 9, 0, 6, 0, 6, 0, 2, 0, 6, 1, 8, 8, 4, 3, 0, 1, 5, 4, 4, 8, 5, 7,\n",
      "        5, 7, 8, 3, 4, 8, 8, 5, 2, 0, 7, 1, 8, 8, 1, 0, 7, 5, 5, 6, 8, 4, 7, 7,\n",
      "        0, 0, 3, 4, 4, 3, 8, 6, 2, 0, 1, 2, 3, 4, 5, 6, 7, 8, 9, 0, 1, 2, 3, 4,\n",
      "        5, 6, 7, 8])\n",
      "tensor([9, 0, 1, 2, 3, 4, 5, 6, 7, 8, 9, 0, 8, 3, 9, 5, 5, 2, 6, 8, 4, 9, 1, 7,\n",
      "        1, 2, 3, 5, 9, 6, 9, 1, 1, 1, 2, 9, 5, 6, 8, 1, 2, 0, 7, 7, 5, 8, 2, 9,\n",
      "        8, 9, 0, 4, 6, 7, 1, 3, 4, 5, 6, 0, 3, 6, 8, 7, 0, 4, 2, 7, 4, 7, 5, 4,\n",
      "        3, 4, 2, 8, 1, 5, 1, 2, 0, 2, 5, 6, 4, 3, 0, 0, 0, 3, 3, 5, 7, 0, 6, 4,\n",
      "        8, 8, 6, 3])\n",
      "tensor([4, 6, 9, 9, 8, 2, 7, 7, 1, 0, 1, 2, 9, 4, 5, 6, 7, 8, 9, 0, 1, 2, 3, 4,\n",
      "        6, 6, 7, 8, 0, 1, 2, 3, 4, 5, 6, 7, 8, 2, 1, 7, 2, 5, 0, 8, 0, 2, 7, 6,\n",
      "        8, 3, 6, 0, 2, 7, 6, 6, 1, 2, 8, 8, 7, 7, 4, 7, 7, 3, 7, 4, 5, 4, 3, 3,\n",
      "        8, 4, 1, 1, 9, 7, 4, 3, 7, 3, 3, 0, 2, 6, 5, 6, 6, 3, 5, 6, 6, 9, 9, 9,\n",
      "        4, 1, 0, 6])\n",
      "tensor([6, 9, 6, 8, 8, 5, 6, 1, 1, 9, 8, 9, 2, 3, 5, 5, 9, 1, 4, 1, 9, 2, 9, 2,\n",
      "        0, 2, 0, 4, 0, 0, 1, 2, 8, 4, 7, 8, 9, 0, 1, 2, 3, 7, 8, 9, 0, 1, 2, 3,\n",
      "        4, 7, 8, 9, 7, 3, 0, 3, 1, 8, 7, 6, 4, 0, 2, 6, 8, 3, 2, 8, 1, 2, 0, 7,\n",
      "        1, 0, 4, 4, 5, 8, 0, 6, 6, 3, 1, 5, 1, 8, 5, 9, 4, 0, 7, 5, 8, 8, 3, 4,\n",
      "        9, 2, 6, 2])\n",
      "tensor([5, 3, 1, 7, 3, 0, 1, 9, 9, 6, 0, 3, 4, 2, 8, 1, 4, 0, 5, 2, 9, 2, 5, 8,\n",
      "        9, 5, 0, 1, 2, 4, 1, 6, 0, 1, 2, 3, 4, 5, 6, 7, 1, 2, 3, 4, 3, 1, 0, 4,\n",
      "        5, 6, 6, 3, 4, 4, 2, 7, 1, 0, 6, 4, 4, 1, 2, 3, 3, 9, 2, 0, 1, 9, 3, 7,\n",
      "        1, 3, 6, 3, 1, 8, 8, 4, 0, 2, 4, 0, 2, 4, 7, 8, 0, 7, 0, 6, 9, 3, 2, 8,\n",
      "        6, 7, 6, 1])\n",
      "tensor([5, 1, 0, 7, 1, 6, 7, 2, 4, 7, 9, 1, 8, 6, 2, 6, 2, 8, 1, 7, 0, 0, 1, 1,\n",
      "        3, 7, 4, 9, 1, 8, 6, 8, 9, 0, 1, 2, 3, 4, 5, 6, 7, 5, 1, 5, 1, 2, 3, 4,\n",
      "        7, 8, 4, 2, 8, 7, 8, 9, 9, 8, 4, 8, 4, 8, 0, 7, 3, 9, 7, 6, 0, 6, 1, 9,\n",
      "        0, 1, 7, 6, 3, 2, 1, 7, 1, 3, 9, 1, 7, 6, 1, 4, 2, 4, 3, 0, 4, 6, 8, 4,\n",
      "        4, 7, 2, 4])\n",
      "tensor([4, 0, 1, 2, 3, 4, 7, 6, 7, 8, 9, 0, 1, 2, 3, 4, 8, 6, 4, 0, 1, 4, 3, 4,\n",
      "        7, 6, 1, 3, 5, 1, 7, 7, 2, 1, 4, 8, 3, 6, 4, 2, 0, 7, 4, 2, 6, 3, 8, 4,\n",
      "        1, 6, 0, 1, 0, 0, 2, 8, 7, 1, 1, 4, 0, 4, 8, 3, 6, 6, 0, 3, 8, 4, 0, 6,\n",
      "        4, 2, 6, 1, 8, 6, 9, 0, 4, 0, 6, 1, 4, 4, 0, 8, 8, 1, 2, 7, 6, 4, 3, 0,\n",
      "        7, 2, 0, 1])\n",
      "tensor([2, 3, 4, 3, 6, 7, 8, 9, 0, 1, 2, 3, 4, 6, 6, 7, 8, 9, 0, 1, 2, 3, 4, 5,\n",
      "        6, 7, 8, 9, 2, 1, 7, 1, 3, 0, 8, 0, 6, 7, 8, 8, 3, 0, 6, 0, 2, 7, 6, 4,\n",
      "        1, 2, 8, 8, 7, 7, 4, 7, 7, 3, 7, 4, 5, 4, 3, 3, 8, 4, 3, 1, 1, 1, 9, 7,\n",
      "        6, 3, 7, 3, 3, 0, 6, 5, 3, 6, 3, 1, 5, 6, 6, 9, 9, 8, 4, 1, 0, 6, 3, 7,\n",
      "        6, 8, 9, 5])\n",
      "tensor([6, 1, 1, 9, 8, 8, 6, 3, 5, 9, 9, 4, 6, 1, 9, 4, 9, 1, 3, 7, 2, 0, 6, 0,\n",
      "        4, 0, 4, 0, 1, 2, 3, 4, 5, 6, 7, 8, 9, 0, 1, 2, 3, 4, 5, 6, 7, 8, 9, 0,\n",
      "        1, 2, 3, 4, 5, 6, 7, 8, 9, 3, 8, 0, 7, 1, 6, 7, 3, 5, 6, 9, 0, 1, 0, 0,\n",
      "        8, 3, 4, 3, 1, 5, 0, 0, 9, 6, 3, 4, 9, 3, 7, 6, 9, 2, 8, 5, 7, 2, 6, 4,\n",
      "        9, 8, 9, 4])\n",
      "tensor([1, 2, 2, 3, 8, 1, 3, 2, 9, 4, 8, 8, 2, 2, 1, 2, 8, 6, 5, 1, 6, 7, 2, 1,\n",
      "        3, 9, 3, 8, 7, 5, 1, 0, 7, 4, 8, 3, 5, 0, 6, 6, 3, 7, 6, 7, 7, 4, 8, 4,\n",
      "        1, 6, 6, 6, 0, 1, 2, 3, 4, 5, 6, 7, 8, 1, 0, 1, 2, 3, 4, 5, 6, 7, 8, 9,\n",
      "        0, 1, 2, 3, 4, 5, 6, 7, 8, 4, 7, 4, 6, 4, 0, 1, 7, 4, 1, 1, 4, 2, 9, 9,\n",
      "        4, 3, 7, 8])\n",
      "tensor([2, 4, 4, 3, 3, 6, 9, 7, 5, 8, 6, 7, 0, 6, 8, 2, 6, 8, 9, 3, 2, 9, 6, 1,\n",
      "        7, 4, 8, 8, 9, 0, 9, 3, 9, 0, 5, 1, 4, 4, 1, 0, 3, 7, 5, 8, 7, 7, 8, 2,\n",
      "        9, 7, 1, 2, 6, 4, 2, 5, 2, 3, 6, 6, 5, 0, 2, 2, 8, 1, 6, 1, 0, 4, 3, 1,\n",
      "        6, 1, 9, 0, 1, 4, 5, 6, 7, 8, 7, 1, 2, 3, 4, 5, 6, 7, 0, 1, 2, 3, 4, 8,\n",
      "        6, 7, 2, 9])\n",
      "tensor([8, 4, 0, 0, 7, 2, 4, 3, 8, 6, 8, 3, 4, 6, 3, 3, 6, 1, 4, 7, 8, 0, 3, 1,\n",
      "        9, 0, 1, 9, 1, 2, 7, 0, 1, 0, 8, 9, 9, 2, 7, 6, 8, 8, 9, 7, 8, 2, 9, 1,\n",
      "        7, 2, 3, 4, 3, 1, 9, 0, 9, 3, 6, 7, 7, 0, 8, 0, 5, 8, 2, 7, 7, 0, 1, 2,\n",
      "        3, 4, 5, 6, 7, 8, 9, 0, 1, 2, 3, 4, 5, 6, 7, 8, 9, 0, 1, 2, 3, 4, 5, 6,\n"
     ]
    },
    {
     "name": "stdout",
     "output_type": "stream",
     "text": [
      "        7, 8, 9, 1])\n",
      "tensor([7, 4, 8, 1, 3, 6, 5, 7, 2, 8, 6, 3, 3, 8, 6, 5, 4, 0, 9, 1, 7, 2, 9, 1,\n",
      "        5, 1, 3, 2, 2, 3, 0, 6, 4, 3, 7, 6, 9, 0, 4, 8, 1, 4, 0, 6, 1, 2, 6, 9,\n",
      "        2, 2, 3, 5, 5, 1, 6, 7, 7, 9, 6, 2, 9, 4, 7, 0, 2, 8, 4, 0, 0, 8, 8, 8,\n",
      "        3, 1, 3, 7, 4, 9, 8, 8, 9, 6, 9, 8, 9, 0, 2, 6, 5, 6, 7, 4, 7, 3, 8, 1,\n",
      "        3, 5, 3, 1])\n",
      "tensor([2, 3, 8, 8, 6, 1, 2, 3, 4, 6, 0, 1, 2, 8, 5, 6, 7, 8, 1, 7, 2, 4, 8, 8,\n",
      "        1, 4, 9, 6, 8, 4, 5, 3, 2, 8, 8, 3, 8, 1, 6, 7, 0, 6, 1, 6, 8, 7, 0, 8,\n",
      "        0, 0, 8, 8, 0, 1, 8, 8, 4, 2, 3, 8, 7, 6, 9, 1, 9, 0, 6, 7, 8, 2, 3, 8,\n",
      "        2, 8, 1, 5, 2, 7, 3, 3, 1, 8, 2, 2, 3, 0, 2, 9, 4, 9, 2, 0, 7, 7, 4, 1,\n",
      "        9, 2, 3, 9])\n",
      "tensor([8, 3, 8, 6, 2, 0, 0, 1, 2, 3, 4, 0, 6, 7, 0, 9, 0, 1, 2, 3, 4, 2, 6, 7,\n",
      "        0, 7, 0, 1, 2, 3, 4, 2, 6, 7, 8, 9, 0, 0, 7, 2, 6, 2, 1, 3, 7, 3, 6, 6,\n",
      "        6, 6, 4, 3, 8, 8, 3, 0, 1, 9, 2, 3, 4, 1, 9, 1, 2, 7, 0, 1, 3, 8, 2, 9,\n",
      "        2, 7, 4, 2, 6, 5, 5, 4, 4, 1, 1, 1, 7, 6, 8, 8, 1, 4, 3, 1, 9, 0, 9, 3,\n",
      "        6, 5, 7, 0])\n",
      "tensor([1, 0, 5, 5, 2, 7, 7, 0, 1, 2, 5, 4, 3, 6, 7, 8, 9, 0, 1, 2, 5, 4, 3, 8,\n",
      "        9, 0, 1, 2, 3, 4, 3, 6, 7, 8, 9, 2, 1, 0, 1, 3, 9, 9, 8, 3, 3, 7, 0, 7,\n",
      "        7, 5, 7, 9, 9, 4, 7, 0, 3, 4, 1, 5, 8, 1, 4, 8, 4, 1, 8, 6, 6, 4, 6, 0,\n",
      "        3, 8, 3, 3, 5, 7, 2, 3, 9, 6, 9, 0, 6, 2, 1, 0, 0, 3, 3, 3, 3, 0, 8, 7,\n",
      "        4, 9, 3, 0])\n",
      "tensor([9, 7, 0, 0, 4, 6, 0, 9, 1, 6, 2, 7, 6, 8, 3, 5, 2, 1, 8, 3, 3, 6, 1, 0,\n",
      "        0, 1, 4, 0, 1, 2, 3, 4, 5, 6, 7, 8, 1, 0, 1, 2, 3, 4, 5, 6, 7, 8, 9, 0,\n",
      "        1, 2, 3, 4, 5, 6, 7, 8, 7, 7, 6, 4, 7, 6, 2, 3, 4, 8, 7, 8, 6, 9, 8, 3,\n",
      "        2, 2, 8, 4, 8, 3, 6, 6, 0, 2, 0, 1, 1, 2, 7, 6, 8, 2, 1, 0, 6, 5, 2, 9,\n",
      "        7, 6, 3, 9])\n",
      "tensor([2, 7, 1, 8, 3, 8, 1, 9, 2, 6, 0, 1, 1, 7, 8, 2, 6, 0, 4, 8, 0, 2, 1, 3,\n",
      "        6, 7, 8, 9, 9, 3, 0, 3, 1, 4, 4, 0, 4, 9, 0, 1, 2, 3, 8, 6, 7, 8, 0, 1,\n",
      "        2, 2, 6, 6, 7, 8, 4, 0, 1, 4, 2, 8, 6, 7, 8, 9, 9, 7, 0, 9, 0, 1, 8, 8,\n",
      "        8, 0, 9, 2, 4, 7, 8, 4, 6, 1, 0, 4, 9, 4, 4, 0, 8, 0, 1, 6, 9, 3, 2, 9,\n",
      "        1, 6, 0, 1])\n",
      "tensor([1, 8, 7, 7, 6, 2, 6, 0, 7, 2, 4, 8, 7, 0, 6, 7, 1, 4, 8, 8, 1, 8, 2, 8,\n",
      "        7, 6, 8, 7, 8, 6, 2, 9, 3, 0, 1, 2, 3, 4, 5, 6, 7, 8, 9, 0, 1, 6, 3, 4,\n",
      "        5, 6, 7, 8, 7, 0, 1, 2, 3, 4, 5, 6, 7, 8, 9, 8, 9, 5, 7, 0, 3, 1, 6, 8,\n",
      "        4, 1, 5, 6, 4, 2, 7, 8, 1, 3, 4, 3, 4, 7, 2, 0, 5, 0, 1, 7, 2, 3, 2, 3,\n",
      "        1, 5, 7, 8])\n",
      "tensor([4, 9, 7, 8, 1, 1, 9, 0, 7, 8, 3, 4, 8, 6, 3, 8, 0, 9, 6, 2, 1, 0, 1, 0,\n",
      "        6, 2, 3, 8, 9, 0, 7, 2, 3, 4, 5, 5, 2, 8, 5, 4, 6, 6, 6, 7, 7, 1, 8, 2,\n",
      "        1, 5, 3, 4, 7, 9, 4, 0, 0, 0, 1, 1, 3, 9, 8, 6, 7, 8, 7, 0, 1, 2, 3, 4,\n",
      "        3, 6, 7, 8, 9, 0, 1, 2, 3, 6, 5, 6, 9, 0, 1, 3, 1, 5, 1, 1, 4, 9, 8, 1,\n",
      "        6, 0, 0, 1])\n",
      "tensor([1, 9, 1, 6, 6, 8, 1, 4, 2, 9, 7, 0, 2, 1, 0, 3, 6, 0, 1, 2, 3, 4, 5, 6,\n",
      "        7, 8, 9, 0, 1, 2, 3, 4, 5, 6, 7, 8, 9, 0, 1, 2, 3, 4, 5, 6, 7, 8, 9, 8,\n",
      "        6, 5, 9, 7, 0, 2, 3, 4, 3, 8, 6, 1, 5, 2, 3, 0, 8, 4, 1, 3, 2, 6, 4, 3,\n",
      "        0, 7, 2, 7, 4, 6, 4, 0, 5, 9, 0, 8, 9, 5, 3, 1, 7, 4, 7, 6, 5, 4, 0, 0,\n",
      "        0, 6, 4, 0])\n",
      "tensor([6, 3, 7, 7, 4, 4, 3, 9, 2, 8, 9, 6, 0, 9, 5, 3, 8, 8, 7, 1, 4, 0, 4, 8,\n",
      "        5, 2, 3, 4, 0, 1, 9, 8, 5, 1, 7, 4, 8, 6, 2, 1, 6, 8, 8, 0, 2, 2, 5, 4,\n",
      "        7, 8, 9, 0, 1, 4, 3, 4, 6, 7, 6, 9, 0, 1, 2, 3, 4, 7, 8, 9, 8, 4, 5, 3,\n",
      "        5, 0, 9, 5, 2, 5, 0, 6, 4, 6, 7, 0, 7, 7, 1, 6, 4, 1, 3, 6, 2, 3, 7, 2,\n",
      "        3, 8, 9, 1])\n",
      "tensor([8, 8, 7, 1, 7, 8, 1, 0, 3, 4, 2, 6, 4, 7, 4, 2, 7, 4, 2, 9, 2, 7, 4, 2,\n",
      "        8, 6, 6, 7, 3, 4, 8, 5, 7, 6, 9, 0, 6, 3, 0, 6, 1, 6, 0, 0, 1, 2, 3, 4,\n",
      "        5, 6, 7, 0, 1, 4, 3, 4, 7, 8, 7, 0, 1, 2, 3, 4, 7, 2, 5, 1, 6, 4, 3, 9,\n",
      "        4, 0, 9, 7, 1, 6, 4, 3, 6, 2, 0, 9, 8, 6, 5, 7, 0, 0, 1, 7, 4, 3, 2, 4,\n",
      "        1, 0, 7, 6])\n",
      "tensor([4, 7, 7, 7, 9, 8, 4, 3, 6, 2, 6, 3, 5, 8, 0, 5, 1, 7, 1, 3, 1, 7, 9, 6,\n",
      "        2, 0, 4, 1, 7, 3, 3, 4, 1, 6, 4, 3, 9, 8, 2, 1, 8, 6, 4, 1, 4, 5, 6, 5,\n",
      "        0, 1, 2, 3, 4, 5, 6, 7, 0, 9, 0, 1, 2, 3, 4, 5, 6, 7, 8, 9, 0, 1, 2, 3,\n",
      "        4, 5, 6, 7, 5, 9, 6, 9, 7, 0, 2, 3, 4, 3, 8, 5, 1, 3, 0, 1, 6, 1, 3, 2,\n",
      "        0, 7, 2, 6])\n",
      "tensor([4, 0, 5, 9, 9, 8, 9, 1, 3, 1, 7, 4, 7, 0, 0, 6, 6, 6, 3, 7, 9, 2, 6, 9,\n",
      "        8, 7, 1, 4, 0, 4, 0, 5, 2, 3, 9, 0, 1, 9, 1, 5, 1, 7, 6, 1, 2, 1, 6, 8,\n",
      "        0, 1, 2, 3, 4, 0, 6, 7, 8, 9, 0, 1, 2, 3, 4, 5, 6, 7, 8, 0, 1, 2, 3, 0,\n",
      "        6, 7, 8, 1, 0, 4, 0, 6, 6, 3, 4, 4, 0, 8, 1, 0, 6, 4, 9, 7, 2, 9, 2, 0,\n",
      "        9, 3, 3, 9])\n",
      "tensor([1, 5, 2, 3, 1, 6, 7, 3, 7, 8, 4, 0, 2, 4, 0, 2, 4, 7, 8, 0, 7, 0, 6, 9,\n",
      "        3, 2, 4, 8, 6, 0, 5, 7, 0, 1, 0, 8, 1, 6, 7, 2, 9, 7, 9, 5, 6, 5, 2, 6,\n",
      "        2, 8, 1, 7, 3, 3, 7, 3, 3, 0, 1, 1, 3, 8, 4, 9, 4, 0, 1, 8, 6, 8, 9, 0,\n",
      "        1, 2, 3, 4, 5, 6, 7, 8, 9, 0, 1, 2, 3, 4, 5, 6, 7, 8, 9, 0, 1, 2, 3, 4,\n",
      "        5, 6, 7, 8])\n",
      "tensor([9, 3, 5, 3, 2, 9, 3, 2, 1, 4, 5, 5, 2, 3, 2, 1, 3, 9, 7, 2, 1, 2, 8, 9,\n",
      "        1, 8, 8, 7, 8, 1, 0, 0, 6, 7, 7, 8, 7, 5, 0, 6, 1, 5, 7, 4, 6, 1, 2, 5,\n",
      "        0, 7, 9, 9, 0, 3, 4, 4, 8, 4, 1, 8, 6, 5, 9, 0, 0, 0, 3, 7, 1, 6, 4, 6,\n",
      "        0, 4, 5, 4, 1, 3, 8, 6, 3, 9, 9, 5, 9, 2, 7, 8, 5, 6, 4, 7, 6, 2, 2, 0,\n",
      "        9, 4, 0, 1])\n",
      "tensor([2, 3, 4, 5, 6, 7, 8, 9, 0, 1, 2, 3, 4, 5, 6, 7, 1, 9, 0, 1, 2, 3, 4, 8,\n",
      "        6, 7, 8, 9, 6, 4, 2, 6, 4, 7, 5, 5, 4, 7, 2, 9, 3, 9, 3, 8, 2, 0, 9, 5,\n",
      "        6, 0, 1, 0, 6, 5, 3, 5, 3, 8, 0, 0, 3, 4, 1, 8, 3, 0, 8, 3, 0, 6, 2, 7,\n",
      "        8, 1, 7, 1, 3, 8, 5, 4, 2, 0, 9, 7, 6, 7, 4, 1, 6, 0, 6, 7, 1, 9, 8, 0,\n",
      "        6, 9, 4, 9])\n",
      "tensor([9, 6, 2, 3, 7, 1, 9, 2, 2, 5, 3, 7, 1, 0, 1, 2, 3, 4, 7, 8, 9, 0, 1, 2,\n",
      "        3, 4, 7, 8, 9, 0, 1, 7, 8, 9, 8, 9, 2, 6, 1, 3, 5, 4, 8, 2, 6, 4, 3, 4,\n",
      "        1, 9, 2, 0, 9, 9, 4, 9, 7, 3, 8, 7, 4, 4, 9, 8, 5, 8, 2, 6, 6, 2, 3, 1,\n",
      "        3, 2, 7, 3, 1, 9, 0, 8, 8, 9, 1, 0, 7, 8, 1, 5, 1, 4, 6, 0, 0, 4, 9, 1,\n",
      "        6, 6, 9, 0])\n",
      "tensor([7, 6, 1, 8, 0, 8, 8, 8, 6, 2, 8, 3, 4, 6, 6, 2, 0, 8, 2, 2, 8, 6, 3, 4,\n",
      "        2, 1, 4, 8, 9, 6, 1, 7, 2, 4, 4, 8, 2, 0, 0, 1, 6, 6, 8, 3, 7, 2, 8, 4,\n",
      "        2, 1, 6, 1, 0, 6, 7, 8, 3, 9, 6, 3, 0, 1, 2, 3, 4, 5, 6, 7, 9, 9, 0, 1,\n",
      "        2, 3, 4, 5, 6, 7, 8, 9, 0, 1, 2, 3, 4, 5, 6, 7, 8, 9, 1, 6, 8, 9, 9, 0,\n",
      "        1, 2, 4, 4])\n",
      "tensor([3, 7, 4, 6, 4, 0, 3, 8, 7, 5, 3, 2, 1, 7, 5, 3, 9, 5, 2, 5, 1, 1, 6, 2,\n",
      "        1, 3, 8, 6, 4, 2, 6, 2, 5, 5, 0, 2, 9, 0, 6, 3, 1, 4, 9, 1, 9, 2, 6, 7,\n",
      "        6, 6, 8, 7, 4, 9, 2, 1, 3, 3, 0, 5, 5, 3, 0, 3, 7, 9, 7, 0, 1, 7, 9, 1,\n",
      "        7, 8, 0, 3, 5, 3, 6, 0, 1, 2, 9, 4, 5, 6, 7, 8, 9, 0, 1, 2, 3, 4, 1, 6,\n",
      "        7, 8, 9, 0])\n",
      "tensor([1, 2, 9, 4, 7, 8, 9, 6, 4, 8, 6, 8, 7, 8, 4, 2, 8, 2, 9, 3, 0, 0, 1, 0,\n",
      "        4, 2, 6, 2, 5, 3, 0, 3, 4, 2, 1, 3, 0, 8, 9, 0, 6, 8, 7, 8, 0, 7, 2, 6,\n",
      "        7, 1, 9, 6, 4, 4, 9, 9, 6, 7, 1, 2, 5, 3, 7, 8, 0, 1, 2, 4, 5, 6, 7, 8,\n",
      "        9, 0, 1, 3, 4, 5, 6, 7, 5, 0, 1, 3, 4, 7, 8, 9, 7, 5, 5, 1, 9, 9, 7, 1,\n",
      "        0, 0, 5, 9])\n",
      "tensor([7, 1, 7, 2, 2, 3, 6, 8, 3, 2, 0, 0, 6, 1, 7, 9, 8, 6, 2, 9, 4, 8, 8, 7,\n",
      "        1, 0, 8, 7, 7, 5, 8, 5, 3, 4, 6, 1, 1, 5, 5, 0, 7, 2, 3, 6, 4, 1, 6, 4,\n",
      "        1, 5, 4, 2, 0, 4, 8, 6, 1, 9, 0, 2, 5, 6, 9, 3, 6, 3, 6, 0, 1, 2, 3, 4,\n",
      "        5, 6, 7, 8, 9, 0, 1, 2, 3, 4, 5, 6, 7, 8, 9, 0, 1, 2, 3, 5, 6, 7, 8, 1,\n",
      "        0, 9, 3, 7])\n",
      "tensor([5, 1, 8, 6, 9, 0, 4, 1, 9, 3, 8, 4, 4, 7, 0, 1, 9, 2, 8, 7, 8, 2, 5, 9,\n",
      "        6, 0, 6, 3, 5, 3, 3, 3, 9, 4, 1, 1, 0, 6, 1, 0, 0, 6, 2, 1, 1, 3, 4, 7,\n",
      "        7, 8, 8, 7, 8, 4, 6, 0, 7, 0, 7, 0, 3, 6, 8, 7, 1, 5, 9, 9, 3, 7, 2, 4,\n",
      "        9, 4, 3, 6, 2, 2, 5, 2, 2, 5, 3, 9, 4, 1, 7, 2, 0, 1, 1, 3, 4, 5, 6, 7,\n",
      "        8, 9, 0, 1])\n",
      "tensor([2, 3, 4, 5, 6, 7, 8, 9, 0, 1, 2, 3, 4, 4, 6, 7, 8, 9, 1, 0, 1, 2, 4, 5,\n",
      "        3, 4, 4, 0, 0, 6, 1, 6, 6, 5, 9, 2, 3, 4, 4, 7, 1, 4, 0, 7, 7, 5, 7, 2,\n",
      "        3, 1, 4, 4, 6, 9, 8, 6, 1, 8, 3, 3, 8, 3, 7, 8, 1, 4, 7, 7, 6, 2, 1, 9,\n",
      "        8, 7, 8, 8, 7, 2, 2, 3, 9, 3, 3, 5, 5, 0, 7, 4, 5, 6, 5, 1, 4, 1, 1, 6,\n",
      "        8, 2, 6, 1])\n",
      "tensor([1, 0, 1, 2, 3, 4, 1, 6, 7, 8, 7, 0, 8, 2, 3, 4, 5, 6, 7, 8, 9, 0, 1, 2,\n",
      "        8, 4, 1, 6, 7, 8, 8, 0, 6, 0, 3, 2, 3, 7, 9, 4, 7, 1, 7, 1, 7, 1, 4, 0,\n",
      "        0, 8, 7, 1, 7, 1, 8, 7, 2, 1, 6, 9, 7, 1, 8, 0, 2, 6, 2, 8, 9, 7, 8, 5,\n",
      "        4, 8, 1, 1, 9, 0, 6, 6, 8, 8, 1, 4, 7, 5, 2, 0, 0, 1, 7, 8, 7, 6, 8, 8,\n"
     ]
    },
    {
     "name": "stdout",
     "output_type": "stream",
     "text": [
      "        2, 3, 6, 1])\n",
      "tensor([6, 9, 5, 2, 0, 1, 2, 3, 4, 1, 6, 7, 1, 9, 0, 1, 0, 3, 4, 0, 6, 7, 8, 9,\n",
      "        0, 1, 0, 3, 4, 6, 6, 7, 1, 8, 7, 1, 6, 1, 8, 0, 4, 4, 3, 7, 1, 2, 7, 5,\n",
      "        8, 6, 3, 0, 0, 0, 1, 8, 6, 0, 3, 8, 1, 0, 3, 0, 4, 7, 4, 7, 0, 9, 0, 7,\n",
      "        1, 7, 1, 6, 6, 0, 6, 0, 1, 7, 6, 4, 9, 9, 5, 3, 7, 4, 3, 0, 1, 6, 6, 1,\n",
      "        1, 3, 2, 1])\n",
      "tensor([0, 0, 1, 2, 3, 4, 7, 8, 4, 0, 1, 8, 3, 4, 1, 6, 7, 1, 0, 1, 2, 3, 4, 7,\n",
      "        8, 9, 6, 8, 3, 9, 5, 1, 8, 6, 8, 6, 1, 7, 1, 7, 3, 5, 6, 9, 1, 1, 1, 8,\n",
      "        1, 2, 0, 7, 7, 1, 8, 8, 7, 8, 3, 7, 3, 4, 6, 8, 7, 0, 4, 8, 7, 7, 5, 4,\n",
      "        3, 4, 8, 8, 1, 1, 1, 2, 8, 3, 3, 1, 7, 0, 6, 1, 6, 3, 4, 4, 8, 8, 7, 7,\n",
      "        1, 0, 1, 7])\n",
      "tensor([8, 9, 0, 1, 0, 7, 4, 8, 6, 7, 8, 0, 8, 2, 9, 4, 7, 8, 9, 7, 8, 6, 4, 1,\n",
      "        4, 7, 8, 4, 4, 7, 0, 1, 9, 2, 8, 7, 8, 2, 6, 0, 0, 6, 3, 5, 8, 9, 1, 4,\n",
      "        0, 6, 1, 0, 0, 0, 0, 8, 1, 7, 7, 3, 4, 6, 0, 7, 0, 3, 6, 8, 7, 1, 3, 2,\n",
      "        4, 4, 4, 2, 6, 4, 1, 7, 2, 6, 2, 0, 1, 7, 8, 4, 5, 6, 7, 8, 4, 0, 1, 2,\n",
      "        3, 4, 8, 6])\n",
      "tensor(83.2600)\n",
      "100\n",
      "100\n",
      "tensor(8326)\n",
      "10000\n"
     ]
    }
   ],
   "source": [
    "correct = 0\n",
    "total = 0\n",
    "iter_test = 0\n",
    "for images, labels in test_loader:\n",
    "    iter_test += 1\n",
    "    images = Variable(images.view(-1, 28*28))\n",
    "    outputs = model(images)\n",
    "    _, predicted = torch.max(outputs.data, 1)\n",
    "    \n",
    "    # Total number of labels\n",
    "    # total \n",
    "    print(predicted.size())\n",
    "    total += labels.size(0)\n",
    "    \n",
    "    # Total correct predictions\n",
    "    correct += (predicted == labels).sum()\n",
    "\n",
    "accuracy = 100 * (correct.float() / total)\n",
    "\n",
    "print(accuracy)\n",
    "print(iter_test)\n",
    "print(labels.size(0))\n",
    "print(correct)\n",
    "print(total)"
   ]
  },
  {
   "cell_type": "code",
   "execution_count": 65,
   "metadata": {},
   "outputs": [
    {
     "name": "stdout",
     "output_type": "stream",
     "text": [
      "[1. 1. 1. 1. 1. 1. 1. 1. 1. 1.]\n",
      "[1. 1. 1. 1. 1. 1. 1. 1. 1. 1.]\n",
      "[ True  True  True  True  True  True  True  True  True  True]\n",
      "10\n"
     ]
    }
   ],
   "source": [
    "# Explaining .sum() python built-in function\n",
    "# correct += (predicted == labels).sum()\n",
    "import numpy as np\n",
    "a = np.ones((10))\n",
    "print(a)\n",
    "b = np.ones((10))\n",
    "print(b)\n",
    "\n",
    "print(a == b)\n",
    "print((a == b).sum())"
   ]
  },
  {
   "cell_type": "code",
   "execution_count": 66,
   "metadata": {},
   "outputs": [],
   "source": [
    "save_model = False\n",
    "if save_model is True:\n",
    "    # Saves only parameters\n",
    "    torch.save(model.state_dict(), 'awesome_model.pkl')"
   ]
  }
 ],
 "metadata": {
  "kernelspec": {
   "display_name": "Python 3",
   "language": "python",
   "name": "python3"
  },
  "language_info": {
   "codemirror_mode": {
    "name": "ipython",
    "version": 3
   },
   "file_extension": ".py",
   "mimetype": "text/x-python",
   "name": "python",
   "nbconvert_exporter": "python",
   "pygments_lexer": "ipython3",
   "version": "3.7.1"
  }
 },
 "nbformat": 4,
 "nbformat_minor": 2
}
