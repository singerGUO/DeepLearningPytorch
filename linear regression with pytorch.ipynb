{
 "cells": [
  {
   "cell_type": "code",
   "execution_count": 131,
   "metadata": {},
   "outputs": [
    {
     "data": {
      "image/png": "[encoded data removed]",
      "text/plain": [
       "<Figure size 432x288 with 1 Axes>"
      ]
     },
     "metadata": {
      "needs_background": "light"
     },
     "output_type": "display_data"
    }
   ],
   "source": [
    "import numpy as np\n",
    "import matplotlib.pyplot as plt\n",
    "np.random.seed(1)\n",
    "n=50\n",
    "x=np.random.rand(n)\n",
    "y=x*np.random.rand(n)\n",
    "colors=np.random.rand(n)\n",
    "plt.plot(np.unique(x),np.poly1d(np.polyfit(x,y,1))(np.unique(x)))\n",
    "plt.scatter(x,y,c=colors,alpha=0.5)\n",
    "plt.show()"
   ]
  },
  {
   "cell_type": "markdown",
   "metadata": {},
   "source": [
    "#### Aim of linear regression"
   ]
  },
  {
   "cell_type": "markdown",
   "metadata": {},
   "source": [
    "build a linear regresson model with pytorch"
   ]
  },
  {
   "cell_type": "markdown",
   "metadata": {},
   "source": [
    "2.1 example \n",
    "\n",
    "aim of it is linear regression is to minimize the distance between the points and the line y=alphax+beta\n",
    "\n",
    "coefficient:alpha=2 \n",
    "\n",
    "bias:beta=1\n",
    "\n",
    "equation:y=2x+1"
   ]
  },
  {
   "cell_type": "markdown",
   "metadata": {},
   "source": [
    "2.2 building a toy dataset"
   ]
  },
  {
   "cell_type": "code",
   "execution_count": 132,
   "metadata": {},
   "outputs": [],
   "source": [
    "x_values=[i for i in range(11)]"
   ]
  },
  {
   "cell_type": "code",
   "execution_count": 133,
   "metadata": {},
   "outputs": [
    {
     "data": {
      "text/plain": [
       "[0, 1, 2, 3, 4, 5, 6, 7, 8, 9, 10]"
      ]
     },
     "execution_count": 133,
     "metadata": {},
     "output_type": "execute_result"
    }
   ],
   "source": [
    "x_values"
   ]
  },
  {
   "cell_type": "code",
   "execution_count": 134,
   "metadata": {},
   "outputs": [
    {
     "data": {
      "text/plain": [
       "(11,)"
      ]
     },
     "execution_count": 134,
     "metadata": {},
     "output_type": "execute_result"
    }
   ],
   "source": [
    "#convert to numpy\n",
    "x_train=np.array(x_values,dtype=np.float32)\n",
    "x_train.shape"
   ]
  },
  {
   "cell_type": "code",
   "execution_count": 135,
   "metadata": {},
   "outputs": [
    {
     "data": {
      "text/plain": [
       "(11, 1)"
      ]
     },
     "execution_count": 135,
     "metadata": {},
     "output_type": "execute_result"
    }
   ],
   "source": [
    "#important 2d required \n",
    "x_train=x_train.reshape(-1,1) \n",
    "x_train.shape"
   ]
  },
  {
   "cell_type": "markdown",
   "metadata": {},
   "source": [
    "y=2x+1"
   ]
  },
  {
   "cell_type": "code",
   "execution_count": 136,
   "metadata": {},
   "outputs": [],
   "source": [
    "y_values=[2*i+1 for i in x_values]"
   ]
  },
  {
   "cell_type": "code",
   "execution_count": 137,
   "metadata": {},
   "outputs": [
    {
     "data": {
      "text/plain": [
       "[1, 3, 5, 7, 9, 11, 13, 15, 17, 19, 21]"
      ]
     },
     "execution_count": 137,
     "metadata": {},
     "output_type": "execute_result"
    }
   ],
   "source": [
    "y_values"
   ]
  },
  {
   "cell_type": "code",
   "execution_count": 138,
   "metadata": {},
   "outputs": [
    {
     "data": {
      "text/plain": [
       "(11,)"
      ]
     },
     "execution_count": 138,
     "metadata": {},
     "output_type": "execute_result"
    }
   ],
   "source": [
    "y_train=np.array(y_values,dtype=np.float32)\n",
    "y_train.shape"
   ]
  },
  {
   "cell_type": "code",
   "execution_count": 139,
   "metadata": {},
   "outputs": [
    {
     "data": {
      "text/plain": [
       "(11, 1)"
      ]
     },
     "execution_count": 139,
     "metadata": {},
     "output_type": "execute_result"
    }
   ],
   "source": [
    "#important 2d required \n",
    "y_train=y_train.reshape(-1,1) \n",
    "y_train.shape"
   ]
  },
  {
   "cell_type": "markdown",
   "metadata": {},
   "source": [
    "#### building the model"
   ]
  },
  {
   "cell_type": "code",
   "execution_count": 140,
   "metadata": {},
   "outputs": [],
   "source": [
    "import torch\n",
    "#for linear regression model\n",
    "import torch.nn as nn\n",
    "from torch.autograd import Variable"
   ]
  },
  {
   "cell_type": "markdown",
   "metadata": {},
   "source": [
    "1. linear model\n",
    "    true equation y=2x+1\n",
    "2. Foward\n",
    "    input x=1\n",
    "    output y=?\n",
    "  "
   ]
  },
  {
   "cell_type": "code",
   "execution_count": 141,
   "metadata": {},
   "outputs": [],
   "source": [
    "#create class\n",
    "class LinearRegressionModel(nn.Module):\n",
    "    def __init__(self,input_dim,output_dim):\n",
    "        #inherit all stuffs from nn.module\n",
    "        super(LinearRegressionModel,self).__init__()\n",
    "                                #x    and  y\n",
    "        self.linear=nn.Linear(input_dim,output_dim)\n",
    "    def forward(self,x):\n",
    "        # to get y value for every call\n",
    "        out=self.linear(x)\n",
    "        return out\n",
    "    \n"
   ]
  },
  {
   "cell_type": "markdown",
   "metadata": {},
   "source": [
    "# Instantiate model class"
   ]
  },
  {
   "cell_type": "markdown",
   "metadata": {},
   "source": [
    "input: [0,1,2,....,10]\n",
    "    \n",
    "desired_output:[1,3,5,7,9...21]"
   ]
  },
  {
   "cell_type": "code",
   "execution_count": 142,
   "metadata": {},
   "outputs": [],
   "source": [
    "input_dim = 1\n",
    "output_dim = 1\n",
    "\n",
    "model = LinearRegressionModel(input_dim, output_dim)\n"
   ]
  },
  {
   "cell_type": "markdown",
   "metadata": {},
   "source": [
    "Inititate Loss class"
   ]
  },
  {
   "cell_type": "markdown",
   "metadata": {},
   "source": [
    "MSE LOSS: Mean square error\n",
    "         i=n   \n",
    "MSE=1/n Segma (yi^-yi)\n",
    "         i=1  \n",
    "y^ is perdiction \n",
    "y  is true value"
   ]
  },
  {
   "cell_type": "code",
   "execution_count": 143,
   "metadata": {},
   "outputs": [],
   "source": [
    "criterion=nn.MSELoss()"
   ]
  },
  {
   "cell_type": "markdown",
   "metadata": {},
   "source": [
    "# instantiate Optimizer class"
   ]
  },
  {
   "cell_type": "markdown",
   "metadata": {},
   "source": [
    "simplified equation:\n",
    "parameter=parameter-learningrate*ParamterGradiant\n",
    "\n",
    "In case of parameters:\n",
    "parameters : alpha and beta in y=alpha x + beta\n",
    "    \n"
   ]
  },
  {
   "cell_type": "code",
   "execution_count": 144,
   "metadata": {},
   "outputs": [],
   "source": [
    "learningrate=0.01\n",
    "optimizer = torch.optim.SGD(model.parameters(), lr=learningrate)"
   ]
  },
  {
   "cell_type": "code",
   "execution_count": 145,
   "metadata": {},
   "outputs": [],
   "source": [
    "epochs=100"
   ]
  },
  {
   "cell_type": "code",
   "execution_count": 146,
   "metadata": {},
   "outputs": [
    {
     "name": "stdout",
     "output_type": "stream",
     "text": [
      "epoch 1, loss 276.6166687011719\n",
      "epoch 2, loss 22.60902214050293\n",
      "epoch 3, loss 1.889904260635376\n",
      "epoch 4, loss 0.19940060377120972\n",
      "epoch 5, loss 0.061006441712379456\n",
      "epoch 6, loss 0.04921845346689224\n",
      "epoch 7, loss 0.047762978821992874\n",
      "epoch 8, loss 0.047155629843473434\n",
      "epoch 9, loss 0.04662306606769562\n",
      "epoch 10, loss 0.04610194265842438\n",
      "epoch 11, loss 0.04558704420924187\n",
      "epoch 12, loss 0.045078013092279434\n",
      "epoch 13, loss 0.044574566185474396\n",
      "epoch 14, loss 0.044076889753341675\n",
      "epoch 15, loss 0.043584708124399185\n",
      "epoch 16, loss 0.04309797286987305\n",
      "epoch 17, loss 0.04261670261621475\n",
      "epoch 18, loss 0.042140811681747437\n",
      "epoch 19, loss 0.04167022928595543\n",
      "epoch 20, loss 0.04120489954948425\n",
      "epoch 21, loss 0.0407448373734951\n",
      "epoch 22, loss 0.040289733558893204\n",
      "epoch 23, loss 0.03983980417251587\n",
      "epoch 24, loss 0.03939495608210564\n",
      "epoch 25, loss 0.03895498067140579\n",
      "epoch 26, loss 0.038519978523254395\n",
      "epoch 27, loss 0.03808991238474846\n",
      "epoch 28, loss 0.03766456991434097\n",
      "epoch 29, loss 0.0372440442442894\n",
      "epoch 30, loss 0.036828041076660156\n",
      "epoch 31, loss 0.03641677275300026\n",
      "epoch 32, loss 0.03601012006402016\n",
      "epoch 33, loss 0.035607997328042984\n",
      "epoch 34, loss 0.03521033003926277\n",
      "epoch 35, loss 0.03481720760464668\n",
      "epoch 36, loss 0.03442847728729248\n",
      "epoch 37, loss 0.034043870866298676\n",
      "epoch 38, loss 0.033663854002952576\n",
      "epoch 39, loss 0.033287838101387024\n",
      "epoch 40, loss 0.032916147261857986\n",
      "epoch 41, loss 0.03254854306578636\n",
      "epoch 42, loss 0.0321851447224617\n",
      "epoch 43, loss 0.03182568401098251\n",
      "epoch 44, loss 0.03147035464644432\n",
      "epoch 45, loss 0.03111889958381653\n",
      "epoch 46, loss 0.030771389603614807\n",
      "epoch 47, loss 0.030427739024162292\n",
      "epoch 48, loss 0.030087999999523163\n",
      "epoch 49, loss 0.02975202538073063\n",
      "epoch 50, loss 0.02941981330513954\n",
      "epoch 51, loss 0.02909126877784729\n",
      "epoch 52, loss 0.028766321018338203\n",
      "epoch 53, loss 0.028445186093449593\n",
      "epoch 54, loss 0.02812754549086094\n",
      "epoch 55, loss 0.027813421562314034\n",
      "epoch 56, loss 0.027502864599227905\n",
      "epoch 57, loss 0.027195654809474945\n",
      "epoch 58, loss 0.026892071589827538\n",
      "epoch 59, loss 0.026591798290610313\n",
      "epoch 60, loss 0.026294801384210587\n",
      "epoch 61, loss 0.026001203805208206\n",
      "epoch 62, loss 0.025710787624120712\n",
      "epoch 63, loss 0.025423742830753326\n",
      "epoch 64, loss 0.025139808654785156\n",
      "epoch 65, loss 0.02485908940434456\n",
      "epoch 66, loss 0.02458150126039982\n",
      "epoch 67, loss 0.0243070125579834\n",
      "epoch 68, loss 0.024035552516579628\n",
      "epoch 69, loss 0.023767149075865746\n",
      "epoch 70, loss 0.023501764982938766\n",
      "epoch 71, loss 0.023239338770508766\n",
      "epoch 72, loss 0.022979849949479103\n",
      "epoch 73, loss 0.02272319607436657\n",
      "epoch 74, loss 0.022469431161880493\n",
      "epoch 75, loss 0.02221851795911789\n",
      "epoch 76, loss 0.02197042666375637\n",
      "epoch 77, loss 0.021725129336118698\n",
      "epoch 78, loss 0.02148248255252838\n",
      "epoch 79, loss 0.02124258503317833\n",
      "epoch 80, loss 0.021005310118198395\n",
      "epoch 81, loss 0.020770786330103874\n",
      "epoch 82, loss 0.020538881421089172\n",
      "epoch 83, loss 0.020309515297412872\n",
      "epoch 84, loss 0.020082689821720123\n",
      "epoch 85, loss 0.01985839568078518\n",
      "epoch 86, loss 0.01963663659989834\n",
      "epoch 87, loss 0.01941741816699505\n",
      "epoch 88, loss 0.019200559705495834\n",
      "epoch 89, loss 0.018986167386174202\n",
      "epoch 90, loss 0.018774185329675674\n",
      "epoch 91, loss 0.018564479425549507\n",
      "epoch 92, loss 0.01835714839398861\n",
      "epoch 93, loss 0.01815217174589634\n",
      "epoch 94, loss 0.017949512228369713\n",
      "epoch 95, loss 0.017749078571796417\n",
      "epoch 96, loss 0.017550822347402573\n",
      "epoch 97, loss 0.017354890704154968\n",
      "epoch 98, loss 0.01716100610792637\n",
      "epoch 99, loss 0.016969455406069756\n",
      "epoch 100, loss 0.016779951751232147\n"
     ]
    },
    {
     "name": "stderr",
     "output_type": "stream",
     "text": [
      "C:\\Users\\G2945\\Anaconda3\\lib\\site-packages\\ipykernel_launcher.py:22: UserWarning: invalid index of a 0-dim tensor. This will be an error in PyTorch 0.5. Use tensor.item() to convert a 0-dim tensor to a Python number\n"
     ]
    }
   ],
   "source": [
    "for epoch in range(epochs):\n",
    "    epoch += 1\n",
    "    # Convert numpy array to torch Variable\n",
    "    inputs = Variable(torch.from_numpy(x_train))\n",
    "    labels = Variable(torch.from_numpy(y_train))\n",
    "    \n",
    "    # Clear gradients w.r.t. parameters\n",
    "    optimizer.zero_grad()\n",
    "    \n",
    "    # Forward to get output\n",
    "    outputs = model(inputs)\n",
    "    \n",
    "    # Calculate Loss\n",
    "    loss = criterion(outputs, labels)\n",
    "    \n",
    "    # Getting gradients w.r.t. parameters\n",
    "    loss.backward()\n",
    "    \n",
    "    # Updating parameters\n",
    "    optimizer.step()\n",
    "    \n",
    "    print('epoch {}, loss {}'.format(epoch, loss.data[0]))\n",
    "    "
   ]
  },
  {
   "cell_type": "code",
   "execution_count": 147,
   "metadata": {},
   "outputs": [
    {
     "data": {
      "text/plain": [
       "array([[ 0.75903416],\n",
       "       [ 2.7937355 ],\n",
       "       [ 4.828437  ],\n",
       "       [ 6.863138  ],\n",
       "       [ 8.89784   ],\n",
       "       [10.932541  ],\n",
       "       [12.967242  ],\n",
       "       [15.001944  ],\n",
       "       [17.036644  ],\n",
       "       [19.071346  ],\n",
       "       [21.106049  ]], dtype=float32)"
      ]
     },
     "execution_count": 147,
     "metadata": {},
     "output_type": "execute_result"
    }
   ],
   "source": [
    "# Purely inference\n",
    "predicted = model(Variable(torch.from_numpy(x_train))).data.numpy()\n",
    "predicted"
   ]
  },
  {
   "cell_type": "code",
   "execution_count": 148,
   "metadata": {},
   "outputs": [
    {
     "data": {
      "text/plain": [
       "array([[ 1.],\n",
       "       [ 3.],\n",
       "       [ 5.],\n",
       "       [ 7.],\n",
       "       [ 9.],\n",
       "       [11.],\n",
       "       [13.],\n",
       "       [15.],\n",
       "       [17.],\n",
       "       [19.],\n",
       "       [21.]], dtype=float32)"
      ]
     },
     "execution_count": 148,
     "metadata": {},
     "output_type": "execute_result"
    }
   ],
   "source": [
    "# y = 2x + 1\n",
    "y_train"
   ]
  },
  {
   "cell_type": "code",
   "execution_count": 154,
   "metadata": {},
   "outputs": [
    {
     "data": {
      "image/png": "[encoded data removed]",
      "text/plain": [
       "<Figure size 432x288 with 1 Axes>"
      ]
     },
     "metadata": {
      "needs_background": "light"
     },
     "output_type": "display_data"
    }
   ],
   "source": [
    "#clear figure\n",
    "plt.clf()\n",
    "\n",
    "#Get predictions \n",
    "predicted=model(Variable(torch.from_numpy(x_train))).data.numpy()\n",
    "\n",
    "#plot true data \n",
    "plt.plot(x_train,y_train,'go',label='True data',alpha=0.5)\n",
    "\n",
    "#plot predictions\n",
    "plt.plot(x_train,predicted,'--',label='Predictions',alpha=0.5)\n",
    "#legend and plot\n",
    "plt.legend(loc='best')\n",
    "plt.show()"
   ]
  }
 ],
 "metadata": {
  "kernelspec": {
   "display_name": "Python 3",
   "language": "python",
   "name": "python3"
  },
  "language_info": {
   "codemirror_mode": {
    "name": "ipython",
    "version": 3
   },
   "file_extension": ".py",
   "mimetype": "text/x-python",
   "name": "python",
   "nbconvert_exporter": "python",
   "pygments_lexer": "ipython3",
   "version": "3.7.1"
  }
 },
 "nbformat": 4,
 "nbformat_minor": 2
}
